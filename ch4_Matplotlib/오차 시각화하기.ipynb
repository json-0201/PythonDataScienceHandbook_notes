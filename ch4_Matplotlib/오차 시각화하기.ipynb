{
 "cells": [
  {
   "cell_type": "code",
   "execution_count": 1,
   "id": "9743bf04-60f2-4802-b51d-b7bb85b087b7",
   "metadata": {},
   "outputs": [],
   "source": [
    "# 기본 오차 막대(errorbar)\n",
    "%matplotlib inline\n",
    "import matplotlib.pyplot as plt, numpy as np\n",
    "plt.style.use(\"seaborn-whitegrid\")"
   ]
  },
  {
   "cell_type": "code",
   "execution_count": 2,
   "id": "0e1e4dc3-72c0-4b59-a9fa-6ec260b668ec",
   "metadata": {},
   "outputs": [
    {
     "data": {
      "image/png": "[encoded data removed]",
      "text/plain": [
       "<Figure size 432x288 with 1 Axes>"
      ]
     },
     "metadata": {},
     "output_type": "display_data"
    }
   ],
   "source": [
    "x = np.linspace(0,10,50)\n",
    "dy = 0.8\n",
    "y = np.sin(x) + dy + np.random.randn(50)\n",
    "\n",
    "# fmt = 선과 점의 모양\n",
    "# x-error, y-error (수평적, 수직적 오차)\n",
    "plt.errorbar(x, y, yerr=dy, fmt=\".k\");"
   ]
  },
  {
   "cell_type": "code",
   "execution_count": 3,
   "id": "2b2018b2-8940-4fea-81fa-dd5aaba1982e",
   "metadata": {},
   "outputs": [
    {
     "data": {
      "image/png": "[encoded data removed]",
      "text/plain": [
       "<Figure size 432x288 with 1 Axes>"
      ]
     },
     "metadata": {},
     "output_type": "display_data"
    }
   ],
   "source": [
    "# set errorbar color, linewidth, capsize\n",
    "plt.errorbar(x, y, yerr=dy, fmt=\"o\", color=\"black\",\n",
    "             ecolor=\"lightgray\", elinewidth=3, capsize=0);"
   ]
  },
  {
   "cell_type": "code",
   "execution_count": 4,
   "id": "08528d3b-c1cf-421b-995e-3dfb0fd95877",
   "metadata": {},
   "outputs": [
    {
     "ename": "ImportError",
     "evalue": "cannot import name 'GaussianProcess' from 'sklearn.gaussian_process' (C:\\Users\\Jimmy Son\\AppData\\Local\\Programs\\Python\\Python310\\lib\\site-packages\\sklearn\\gaussian_process\\__init__.py)",
     "output_type": "error",
     "traceback": [
      "\u001b[1;31m---------------------------------------------------------------------------\u001b[0m",
      "\u001b[1;31mImportError\u001b[0m                               Traceback (most recent call last)",
      "Input \u001b[1;32mIn [4]\u001b[0m, in \u001b[0;36m<cell line: 4>\u001b[1;34m()\u001b[0m\n\u001b[0;32m      1\u001b[0m \u001b[38;5;66;03m# 연속 오차\u001b[39;00m\n\u001b[0;32m      2\u001b[0m \u001b[38;5;66;03m# Gaussian process regression, GPR\u001b[39;00m\n\u001b[0;32m      3\u001b[0m \u001b[38;5;66;03m# 불확실한 연속 측정치를 가진 데이터에 유여한 비모수 함수를 적합\u001b[39;00m\n\u001b[1;32m----> 4\u001b[0m \u001b[38;5;28;01mfrom\u001b[39;00m \u001b[38;5;21;01msklearn\u001b[39;00m\u001b[38;5;21;01m.\u001b[39;00m\u001b[38;5;21;01mgaussian_process\u001b[39;00m \u001b[38;5;28;01mimport\u001b[39;00m GaussianProcess\n\u001b[0;32m      6\u001b[0m \u001b[38;5;66;03m# 모델을 정의하고 일부 데이터를 그림\u001b[39;00m\n\u001b[0;32m      7\u001b[0m model \u001b[38;5;241m=\u001b[39m \u001b[38;5;28;01mlambda\u001b[39;00m x: x \u001b[38;5;241m*\u001b[39m np\u001b[38;5;241m.\u001b[39msin(x)\n",
      "\u001b[1;31mImportError\u001b[0m: cannot import name 'GaussianProcess' from 'sklearn.gaussian_process' (C:\\Users\\Jimmy Son\\AppData\\Local\\Programs\\Python\\Python310\\lib\\site-packages\\sklearn\\gaussian_process\\__init__.py)"
     ]
    }
   ],
   "source": [
    "# 연속 오차\n",
    "# Gaussian process regression, GPR\n",
    "# 불확실한 연속 측정치를 가진 데이터에 유여한 비모수 함수를 적합\n",
    "from sklearn.gaussian_process import GaussianProcess\n",
    "\n",
    "# 모델을 정의하고 일부 데이터를 그림\n",
    "model = lambda x: x * np.sin(x)\n",
    "xdata = np.array([1, 3, 5, 6, 8])\n",
    "ydata = model(xdata)\n",
    "\n",
    "# 가우시안 프로세스 적합 계산\n",
    "gp = GaussianProcess(corr=\"cubic\", theta0=1e-2, thetaL=1e-4, thetaU=1E-1,\n",
    "                     random_start=100)\n",
    "gp.fit(xdata[:, np.newaxis], ydata)\n",
    "xfit = np.linspace(0, 10, 1000)\n",
    "yfit, MSE = gp.predict(xfit[:, np.newaxis], eval_MSE=True)\n",
    "dyfit = 2 * np.sqrt(MSE) # 2 * 시그마 ~ 95% 신뢰 영역\n",
    "\n",
    "# 결과를 시각화\n",
    "plt.plot(xdata, ydata, \"or\")\n",
    "plt.plot(xfit, yfit, \"-\", color=\"gray\")\n",
    "\n",
    "plt.fill_between(xfit, yfit - dyfit, yfit + dyfit,\n",
    "                 color=\"gray\", alpha=0.2)\n",
    "plt.xlim(0,10);"
   ]
  },
  {
   "cell_type": "code",
   "execution_count": null,
   "id": "34a7a67d-a61a-48a9-9db9-7ef148e7c754",
   "metadata": {},
   "outputs": [],
   "source": []
  }
 ],
 "metadata": {
  "kernelspec": {
   "display_name": "Python 3 (ipykernel)",
   "language": "python",
   "name": "python3"
  },
  "language_info": {
   "codemirror_mode": {
    "name": "ipython",
    "version": 3
   },
   "file_extension": ".py",
   "mimetype": "text/x-python",
   "name": "python",
   "nbconvert_exporter": "python",
   "pygments_lexer": "ipython3",
   "version": "3.10.5"
  }
 },
 "nbformat": 4,
 "nbformat_minor": 5
}
