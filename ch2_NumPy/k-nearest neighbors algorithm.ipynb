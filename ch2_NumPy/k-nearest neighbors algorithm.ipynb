{
 "cells": [
  {
   "cell_type": "code",
   "execution_count": 1,
   "id": "00b9a6b3-7444-461e-ae3a-eef97914e54c",
   "metadata": {},
   "outputs": [],
   "source": [
    "import numpy as np"
   ]
  },
  {
   "cell_type": "code",
   "execution_count": 10,
   "id": "a3095ec7-b66c-4ef1-af9c-b1fc681175b6",
   "metadata": {},
   "outputs": [],
   "source": [
    "rand = np.random.RandomState(69)"
   ]
  },
  {
   "cell_type": "code",
   "execution_count": 11,
   "id": "9c5a6f37-7c5c-4092-8588-771b6e3ae268",
   "metadata": {},
   "outputs": [],
   "source": [
    "# X is an array containing 10 adta points\n",
    "X = rand.rand(10,2)"
   ]
  },
  {
   "cell_type": "code",
   "execution_count": 12,
   "id": "3f744357-86b0-4267-b83e-8f580c4b1378",
   "metadata": {},
   "outputs": [
    {
     "data": {
      "text/plain": [
       "array([[0.29624916, 0.80906772],\n",
       "       [0.35025253, 0.78940926],\n",
       "       [0.56134898, 0.25358895],\n",
       "       [0.10497708, 0.05846073],\n",
       "       [0.67329238, 0.69782966],\n",
       "       [0.73278321, 0.78787406],\n",
       "       [0.07637632, 0.3176806 ],\n",
       "       [0.74102328, 0.32849423],\n",
       "       [0.47014548, 0.18108572],\n",
       "       [0.3235044 , 0.45490616]])"
      ]
     },
     "execution_count": 12,
     "metadata": {},
     "output_type": "execute_result"
    }
   ],
   "source": [
    "X"
   ]
  },
  {
   "cell_type": "code",
   "execution_count": 13,
   "id": "0f4d4c7b-5a56-4255-8757-433f51a76f32",
   "metadata": {},
   "outputs": [
    {
     "data": {
      "text/plain": [
       "<matplotlib.collections.PathCollection at 0x1dfa27a2860>"
      ]
     },
     "execution_count": 13,
     "metadata": {},
     "output_type": "execute_result"
    },
    {
     "data": {
      "image/png": "[encoded data removed]",
      "text/plain": [
       "<Figure size 432x288 with 1 Axes>"
      ]
     },
     "metadata": {},
     "output_type": "display_data"
    }
   ],
   "source": [
    "%matplotlib inline\n",
    "import matplotlib.pyplot as plt\n",
    "import seaborn; seaborn.set() # default seaborn plot style\n",
    "plt.scatter(X[:,0], X[:,1], s=50)"
   ]
  },
  {
   "cell_type": "code",
   "execution_count": 19,
   "id": "b4e9fce0-f78c-4b74-aec2-7ba0759efe0e",
   "metadata": {},
   "outputs": [
    {
     "name": "stdout",
     "output_type": "stream",
     "text": [
      "[[[0.29624916 0.80906772]]\n",
      "\n",
      " [[0.35025253 0.78940926]]\n",
      "\n",
      " [[0.56134898 0.25358895]]\n",
      "\n",
      " [[0.10497708 0.05846073]]\n",
      "\n",
      " [[0.67329238 0.69782966]]\n",
      "\n",
      " [[0.73278321 0.78787406]]\n",
      "\n",
      " [[0.07637632 0.3176806 ]]\n",
      "\n",
      " [[0.74102328 0.32849423]]\n",
      "\n",
      " [[0.47014548 0.18108572]]\n",
      "\n",
      " [[0.3235044  0.45490616]]]\n",
      "(10, 1, 2)\n",
      "[[[0.29624916 0.80906772]\n",
      "  [0.35025253 0.78940926]\n",
      "  [0.56134898 0.25358895]\n",
      "  [0.10497708 0.05846073]\n",
      "  [0.67329238 0.69782966]\n",
      "  [0.73278321 0.78787406]\n",
      "  [0.07637632 0.3176806 ]\n",
      "  [0.74102328 0.32849423]\n",
      "  [0.47014548 0.18108572]\n",
      "  [0.3235044  0.45490616]]]\n",
      "(1, 10, 2)\n"
     ]
    }
   ],
   "source": [
    "# np.newaxis사용 -> 브로드캐스팅 연산\n",
    "print(X[:, np.newaxis, :])\n",
    "print(X[:, np.newaxis, :].shape)\n",
    "print(X[np.newaxis, :, :])\n",
    "print(X[np.newaxis, :, :].shape)"
   ]
  },
  {
   "cell_type": "code",
   "execution_count": 27,
   "id": "2838a99e-012e-4462-8f09-91e563ad0429",
   "metadata": {},
   "outputs": [
    {
     "name": "stdout",
     "output_type": "stream",
     "text": [
      "(10, 10, 2)\n",
      "(10, 10, 2)\n",
      "(10, 10)\n"
     ]
    }
   ],
   "source": [
    "# dist_sq = np.sum((X[:,np.newaxis,:] - X[np.newaxis,:,:]) ** 2, axis=-1)\n",
    "\n",
    "# 각 쌍의 점 사이의 좌표 차이를 계산함\n",
    "differences = X[: ,np.newaxis, :] - X[np.newaxis, :, :]\n",
    "print(differences.shape)\n",
    "\n",
    "# 좌표 차이를 제곱함\n",
    "sq_differences = differences ** 2\n",
    "print(sq_differences.shape)\n",
    "\n",
    "# 제곱 거리를 구하기 위해 좌표 차이를 더함\n",
    "dist_sq = sq_differences.sum(-1)\n",
    "print(dist_sq.shape)"
   ]
  },
  {
   "cell_type": "code",
   "execution_count": 28,
   "id": "873f3948-3386-4dd7-864c-7a4a47b10f86",
   "metadata": {},
   "outputs": [
    {
     "data": {
      "text/plain": [
       "array([0., 0., 0., 0., 0., 0., 0., 0., 0., 0.])"
      ]
     },
     "execution_count": 28,
     "metadata": {},
     "output_type": "execute_result"
    }
   ],
   "source": [
    "dist_sq.diagonal()"
   ]
  },
  {
   "cell_type": "code",
   "execution_count": 30,
   "id": "4d0ad3e8-e2d1-4d79-b521-c647892ddb36",
   "metadata": {},
   "outputs": [
    {
     "name": "stdout",
     "output_type": "stream",
     "text": [
      "[[0 1 9 4 5 6 2 8 7 3]\n",
      " [1 0 9 4 5 6 2 7 8 3]\n",
      " [2 8 7 9 4 6 3 5 1 0]\n",
      " [3 6 8 9 2 7 1 0 4 5]\n",
      " [4 5 1 7 0 9 2 8 6 3]\n",
      " [5 4 1 0 7 9 2 8 6 3]\n",
      " [6 3 9 8 2 0 1 7 4 5]\n",
      " [7 2 8 4 9 5 1 0 6 3]\n",
      " [8 2 7 9 3 6 4 1 0 5]\n",
      " [9 6 8 2 1 0 4 7 3 5]]\n"
     ]
    }
   ],
   "source": [
    "nearest = np.argsort(dist_sq, axis=1)\n",
    "print(nearest)"
   ]
  },
  {
   "cell_type": "code",
   "execution_count": 34,
   "id": "a2b5488c-5698-4480-b9c1-4d8e2439a0ee",
   "metadata": {},
   "outputs": [
    {
     "name": "stdout",
     "output_type": "stream",
     "text": [
      "[[1 0 9 4 5 6 2 7 8 3]\n",
      " [1 0 9 4 5 6 2 7 8 3]\n",
      " [2 8 7 9 4 5 6 1 3 0]\n",
      " [3 6 8 9 2 7 1 0 5 4]\n",
      " [4 5 1 7 0 3 6 2 8 9]\n",
      " [1 4 5 0 3 2 6 7 8 9]\n",
      " [3 6 9 8 2 0 5 7 1 4]\n",
      " [2 7 8 4 9 5 6 1 3 0]\n",
      " [8 2 7 9 3 6 4 5 1 0]\n",
      " [8 6 9 2 1 0 5 7 3 4]]\n"
     ]
    }
   ],
   "source": [
    "K = 2\n",
    "nearest_partition = np.argpartition(dist_sq, K + 1, axis = 1)\n",
    "print(nearest_partition)"
   ]
  },
  {
   "cell_type": "code",
   "execution_count": 35,
   "id": "9374899e-cd55-4f02-831a-82a8bcf49507",
   "metadata": {},
   "outputs": [
    {
     "data": {
      "image/png": "[encoded data removed]",
      "text/plain": [
       "<Figure size 432x288 with 1 Axes>"
      ]
     },
     "metadata": {},
     "output_type": "display_data"
    }
   ],
   "source": [
    "plt.scatter(X[:,0], X[:,1], s=100)\n",
    "# 각 점을 두개의 가장 가까운 이웃과 선으로 이음\n",
    "K = 2\n",
    "for i in range(X.shape[0]):\n",
    "    for j in nearest_partition[i, :K+1]:\n",
    "        # X[i]부터 X[j]까지 선으로 이음\n",
    "        # zip 매직 함수를 이용함\n",
    "        plt.plot(*zip(X[j], X[i]), color=\"black\")"
   ]
  },
  {
   "cell_type": "code",
   "execution_count": null,
   "id": "869bbb56-02f5-4604-ab64-fc6c78a9cc8a",
   "metadata": {},
   "outputs": [],
   "source": []
  }
 ],
 "metadata": {
  "kernelspec": {
   "display_name": "Python 3 (ipykernel)",
   "language": "python",
   "name": "python3"
  },
  "language_info": {
   "codemirror_mode": {
    "name": "ipython",
    "version": 3
   },
   "file_extension": ".py",
   "mimetype": "text/x-python",
   "name": "python",
   "nbconvert_exporter": "python",
   "pygments_lexer": "ipython3",
   "version": "3.10.5"
  }
 },
 "nbformat": 4,
 "nbformat_minor": 5
}
