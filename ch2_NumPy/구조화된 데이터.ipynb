{
 "cells": [
  {
   "cell_type": "code",
   "execution_count": 1,
   "id": "4ed2d9c6-530b-4f69-b780-5de44249a8a6",
   "metadata": {},
   "outputs": [],
   "source": [
    "# 데이터를 효율적으로 저장하기 위한 구조화된 배열과 레코드 배열\n",
    "import numpy as np\n",
    "\n",
    "# 다소 어설픈 방식\n",
    "name = [\"Alice\", \"Bob\", \"Cathy\", \"Doug\"]\n",
    "age = [25, 45, 37, 19]\n",
    "weight = [55.0, 85.5, 68.0, 61.5]"
   ]
  },
  {
   "cell_type": "code",
   "execution_count": 2,
   "id": "fb4a7061-5f3c-4951-a796-bb10d87e7a16",
   "metadata": {},
   "outputs": [],
   "source": [
    "# 데이터 타입 예\n",
    "x = np.zeros(4, dtype=int)"
   ]
  },
  {
   "cell_type": "code",
   "execution_count": 3,
   "id": "64501a05-d4e0-4ea8-a196-1bbd830f38f9",
   "metadata": {},
   "outputs": [
    {
     "name": "stdout",
     "output_type": "stream",
     "text": [
      "[('name', '<U10'), ('age', '<i4'), ('weight', '<f8')]\n"
     ]
    }
   ],
   "source": [
    "# 구조화된 배열을 위해 복합 데이터 타입 사용\n",
    "# 딕셔너리 스타일\n",
    "data = np.zeros(4, dtype = {\"names\": (\"name\", \"age\", \"weight\"),\n",
    "                            \"formats\": (\"U10\", \"i4\", \"f8\")})\n",
    "print(data.dtype)"
   ]
  },
  {
   "cell_type": "code",
   "execution_count": 4,
   "id": "786646b9-3dba-4824-bee0-ae02864e6dd5",
   "metadata": {},
   "outputs": [
    {
     "data": {
      "text/plain": [
       "array([('', 0, 0.), ('', 0, 0.), ('', 0, 0.), ('', 0, 0.)],\n",
       "      dtype=[('name', '<U10'), ('age', '<i4'), ('weight', '<f8')])"
      ]
     },
     "execution_count": 4,
     "metadata": {},
     "output_type": "execute_result"
    }
   ],
   "source": [
    "# Empty data\n",
    "data"
   ]
  },
  {
   "cell_type": "code",
   "execution_count": 5,
   "id": "2bcb4eb1-c405-4fd8-a45b-4f5676270822",
   "metadata": {},
   "outputs": [],
   "source": [
    "# 리스트 채우기\n",
    "data[\"name\"] = name\n",
    "data[\"age\"] = age\n",
    "data[\"weight\"] = weight"
   ]
  },
  {
   "cell_type": "code",
   "execution_count": 6,
   "id": "7ad2c6ed-02aa-488e-aade-f301caac0f4b",
   "metadata": {},
   "outputs": [
    {
     "data": {
      "text/plain": [
       "array([('Alice', 25, 55. ), ('Bob', 45, 85.5), ('Cathy', 37, 68. ),\n",
       "       ('Doug', 19, 61.5)],\n",
       "      dtype=[('name', '<U10'), ('age', '<i4'), ('weight', '<f8')])"
      ]
     },
     "execution_count": 6,
     "metadata": {},
     "output_type": "execute_result"
    }
   ],
   "source": [
    "data"
   ]
  },
  {
   "cell_type": "code",
   "execution_count": 7,
   "id": "69ed1390-1aca-417a-b5bb-61a956a89a15",
   "metadata": {},
   "outputs": [
    {
     "data": {
      "text/plain": [
       "array(['Alice', 'Bob', 'Cathy', 'Doug'], dtype='<U10')"
      ]
     },
     "execution_count": 7,
     "metadata": {},
     "output_type": "execute_result"
    }
   ],
   "source": [
    "# 전체 이름 가져오기\n",
    "data[\"name\"]"
   ]
  },
  {
   "cell_type": "code",
   "execution_count": 8,
   "id": "b709f831-e8c6-4db5-a4a6-92e5f474ac4a",
   "metadata": {},
   "outputs": [
    {
     "data": {
      "text/plain": [
       "('Alice', 25, 55.)"
      ]
     },
     "execution_count": 8,
     "metadata": {},
     "output_type": "execute_result"
    }
   ],
   "source": [
    "# 데이터 첫 번째 행 가져오기\n",
    "data[0]"
   ]
  },
  {
   "cell_type": "code",
   "execution_count": 9,
   "id": "5a5e195b-17c7-48a3-82af-20cc45117ab7",
   "metadata": {},
   "outputs": [
    {
     "data": {
      "text/plain": [
       "'Doug'"
      ]
     },
     "execution_count": 9,
     "metadata": {},
     "output_type": "execute_result"
    }
   ],
   "source": [
    "# 마지막 행의 이름 가져오기\n",
    "data[-1][\"name\"]"
   ]
  },
  {
   "cell_type": "code",
   "execution_count": 10,
   "id": "bbed6724-628c-42b2-8b18-fefd07f4559a",
   "metadata": {},
   "outputs": [
    {
     "data": {
      "text/plain": [
       "array(['Alice', 'Doug'], dtype='<U10')"
      ]
     },
     "execution_count": 10,
     "metadata": {},
     "output_type": "execute_result"
    }
   ],
   "source": [
    "# 부울 마스킹 -> 나이가 30 이하인 이름 가져오기\n",
    "# mask = data[\"age\"] < 30\n",
    "data[data[\"age\"] < 30][\"name\"]"
   ]
  },
  {
   "cell_type": "code",
   "execution_count": 11,
   "id": "b568192b-4df5-4698-838f-75dfa2dff669",
   "metadata": {},
   "outputs": [
    {
     "data": {
      "text/plain": [
       "dtype([('name', '<U10'), ('age', '<i4'), ('weight', '<f8')])"
      ]
     },
     "execution_count": 11,
     "metadata": {},
     "output_type": "execute_result"
    }
   ],
   "source": [
    "# 숫자 타입 -> Python type OR NumPy dtype\n",
    "np.dtype({\"names\": (\"name\", \"age\", \"weight\"),\n",
    "          \"formats\": (\"U10\", \"i4\", \"f8\")})"
   ]
  },
  {
   "cell_type": "code",
   "execution_count": 12,
   "id": "c5dbbcd3-e30b-478d-89fc-e0620174fdf1",
   "metadata": {},
   "outputs": [
    {
     "data": {
      "text/plain": [
       "dtype([('name', '<U10'), ('age', '<i4'), ('weight', '<f4')])"
      ]
     },
     "execution_count": 12,
     "metadata": {},
     "output_type": "execute_result"
    }
   ],
   "source": [
    "# 숫자 타입 -> Python type OR NumPy dtype\n",
    "\n",
    "np.dtype({\"names\": (\"name\", \"age\", \"weight\"),\n",
    "          \"formats\": ((np.str_, 10), int, np.float32)})"
   ]
  },
  {
   "cell_type": "code",
   "execution_count": 13,
   "id": "ef2807c1-ce4b-4e2e-9603-2c9685a0ca05",
   "metadata": {},
   "outputs": [
    {
     "data": {
      "text/plain": [
       "dtype([('name', 'S10'), ('age', '<i4'), ('weight', '<f8')])"
      ]
     },
     "execution_count": 13,
     "metadata": {},
     "output_type": "execute_result"
    }
   ],
   "source": [
    "# 복합 타입은 튜플의 리스트로 지정가능\n",
    "np.dtype([(\"name\", \"S10\"), (\"age\", \"i4\"), (\"weight\", \"f8\")])"
   ]
  },
  {
   "cell_type": "code",
   "execution_count": 14,
   "id": "06c2025d-97f3-48cb-a6c3-f0ed2bd0108d",
   "metadata": {},
   "outputs": [
    {
     "data": {
      "text/plain": [
       "dtype([('f0', 'S10'), ('f1', '<i4'), ('f2', '<f8')])"
      ]
     },
     "execution_count": 14,
     "metadata": {},
     "output_type": "execute_result"
    }
   ],
   "source": [
    "# 타입의 이름 중요하지 않다면, 타입만 지정가능\n",
    "np.dtype(\"S10,i4,f8\")"
   ]
  },
  {
   "cell_type": "code",
   "execution_count": 15,
   "id": "da3cc3a3-5894-456a-824b-af1a5abed84a",
   "metadata": {},
   "outputs": [
    {
     "name": "stdout",
     "output_type": "stream",
     "text": [
      "(0, [[0., 0., 0.], [0., 0., 0.], [0., 0., 0.]])\n",
      "\n",
      "[[0. 0. 0.]\n",
      " [0. 0. 0.]\n",
      " [0. 0. 0.]]\n"
     ]
    }
   ],
   "source": [
    "# 고급 복합 타입 (ex. tp)\n",
    "# 3x3 부동 소수점 행렬로 구성된 mat\n",
    "tp = np.dtype([(\"id\", \"i8\"), (\"mat\", \"f8\", (3,3))])\n",
    "\n",
    "X = np.zeros(1, dtype=tp)\n",
    "print(X[0])\n",
    "print()\n",
    "\n",
    "print(X[\"mat\"][0])\n"
   ]
  },
  {
   "cell_type": "code",
   "execution_count": 16,
   "id": "3d799d78-88f4-4cad-9b20-81087a8edb75",
   "metadata": {},
   "outputs": [
    {
     "name": "stdout",
     "output_type": "stream",
     "text": [
      "[25 45 37 19]\n",
      "\n"
     ]
    },
    {
     "data": {
      "text/plain": [
       "array([25, 45, 37, 19])"
      ]
     },
     "execution_count": 16,
     "metadata": {},
     "output_type": "execute_result"
    }
   ],
   "source": [
    "# 레코드 배열: 트위스트를 가진 구조화된 배열\n",
    "# np.recarray\n",
    "print(data[\"age\"])\n",
    "print()\n",
    "\n",
    "data_rec = data.view(np.recarray)\n",
    "data_rec.age"
   ]
  },
  {
   "cell_type": "code",
   "execution_count": 17,
   "id": "c178d3fa-c451-4689-b08a-843d6e9dd0c5",
   "metadata": {},
   "outputs": [
    {
     "name": "stdout",
     "output_type": "stream",
     "text": [
      "99.8 ns ± 1.86 ns per loop (mean ± std. dev. of 7 runs, 10,000,000 loops each)\n",
      "1.93 µs ± 15.7 ns per loop (mean ± std. dev. of 7 runs, 100,000 loops each)\n",
      "3.06 µs ± 76 ns per loop (mean ± std. dev. of 7 runs, 100,000 loops each)\n"
     ]
    }
   ],
   "source": [
    "# 레코드 배열 -> 부가적인 오버헤드\n",
    "%timeit data[\"age\"]\n",
    "%timeit data_rec[\"age\"]\n",
    "%timeit data_rec.age"
   ]
  },
  {
   "cell_type": "code",
   "execution_count": null,
   "id": "855fc485-8767-4470-ac89-ab78a9159acb",
   "metadata": {},
   "outputs": [],
   "source": []
  }
 ],
 "metadata": {
  "kernelspec": {
   "display_name": "Python 3 (ipykernel)",
   "language": "python",
   "name": "python3"
  },
  "language_info": {
   "codemirror_mode": {
    "name": "ipython",
    "version": 3
   },
   "file_extension": ".py",
   "mimetype": "text/x-python",
   "name": "python",
   "nbconvert_exporter": "python",
   "pygments_lexer": "ipython3",
   "version": "3.10.5"
  }
 },
 "nbformat": 4,
 "nbformat_minor": 5
}
