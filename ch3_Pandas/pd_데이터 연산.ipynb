{
 "cells": [
  {
   "cell_type": "code",
   "execution_count": 1,
   "id": "6b5fab4b-4abc-4aa3-8420-fb31553d86ec",
   "metadata": {},
   "outputs": [],
   "source": [
    "import numpy as np, pandas as pd"
   ]
  },
  {
   "cell_type": "code",
   "execution_count": 13,
   "id": "072949a2-a694-4c9e-8d83-94d3ea2dc48b",
   "metadata": {},
   "outputs": [
    {
     "name": "stdout",
     "output_type": "stream",
     "text": [
      "0    6\n",
      "1    3\n",
      "2    7\n",
      "3    4\n",
      "dtype: int32 \n",
      "\n",
      "   A  B  C  D\n",
      "0  6  9  2  6\n",
      "1  7  4  3  7\n",
      "2  7  2  5  4\n"
     ]
    }
   ],
   "source": [
    "# universal functions(ufunc): 인덱스 보존\n",
    "rng = np.random.RandomState(42)\n",
    "ser = pd.Series(rng.randint(0, 10, 4))\n",
    "print(ser, \"\\n\")\n",
    "\n",
    "df = pd.DataFrame(rng.randint(0, 10, (3,4)),\n",
    "                 columns=[\"A\",\"B\",\"C\",\"D\"])\n",
    "print(df)"
   ]
  },
  {
   "cell_type": "code",
   "execution_count": 16,
   "id": "76f40423-c00f-4a4e-93db-578ca73cf439",
   "metadata": {},
   "outputs": [
    {
     "name": "stdout",
     "output_type": "stream",
     "text": [
      "0     403.428793\n",
      "1      20.085537\n",
      "2    1096.633158\n",
      "3      54.598150\n",
      "dtype: float64 \n",
      "\n",
      "          A             B         C             D\n",
      "0 -1.000000  7.071068e-01  1.000000 -1.000000e+00\n",
      "1 -0.707107  1.224647e-16  0.707107 -7.071068e-01\n",
      "2 -0.707107  1.000000e+00 -0.707107  1.224647e-16\n"
     ]
    }
   ],
   "source": [
    "# NumPy ufunc -> index maintains\n",
    "print(np.exp(ser), \"\\n\")\n",
    "print(np.sin(df * np.pi / 4))"
   ]
  },
  {
   "cell_type": "code",
   "execution_count": 23,
   "id": "c7009970-650d-43ef-813f-759b5e22f66c",
   "metadata": {},
   "outputs": [
    {
     "name": "stdout",
     "output_type": "stream",
     "text": [
      "Alaska        1723337\n",
      "Texas          695662\n",
      "California     423967\n",
      "Name: area, dtype: int64 \n",
      "\n",
      "California    38332521\n",
      "Texas         26448193\n",
      "New York      19651127\n",
      "Name: population, dtype: int64 \n",
      "\n"
     ]
    },
    {
     "data": {
      "text/plain": [
       "Alaska              NaN\n",
       "California    90.413926\n",
       "New York            NaN\n",
       "Texas         38.018740\n",
       "dtype: float64"
      ]
     },
     "execution_count": 23,
     "metadata": {},
     "output_type": "execute_result"
    }
   ],
   "source": [
    "# universal functions(ufunc): 인덱스 정렬\n",
    "# Series 인덱스 정렬\n",
    "area = pd.Series({\"Alaska\": 1723337,\n",
    "                  \"Texas\": 695662,\n",
    "                  \"California\": 423967,}, name=\"area\")\n",
    "\n",
    "population = pd.Series({\"California\": 38332521,\n",
    "                        \"Texas\": 26448193,\n",
    "                        \"New York\": 19651127,}, name=\"population\")\n",
    "\n",
    "print(area, \"\\n\")\n",
    "print(population, \"\\n\")\n",
    "\n",
    "population / area # NaN = Not a Number"
   ]
  },
  {
   "cell_type": "code",
   "execution_count": 30,
   "id": "689f8eab-de98-4e0c-8cbf-bf229b6b7416",
   "metadata": {},
   "outputs": [
    {
     "name": "stdout",
     "output_type": "stream",
     "text": [
      "Int64Index([0, 1, 2, 3], dtype='int64') \n",
      "\n"
     ]
    },
    {
     "data": {
      "text/plain": [
       "0    NaN\n",
       "1    5.0\n",
       "2    9.0\n",
       "3    NaN\n",
       "dtype: float64"
      ]
     },
     "execution_count": 30,
     "metadata": {},
     "output_type": "execute_result"
    }
   ],
   "source": [
    "A = pd.Series([2,4,6], index=[0,1,2,])\n",
    "B = pd.Series([1,3,5], index=[1,2,3,])\n",
    "# index - A.index| B.index\n",
    "print(A.index.union(B.index), \"\\n\")\n",
    "\n",
    "A+B"
   ]
  },
  {
   "cell_type": "code",
   "execution_count": 33,
   "id": "9073862f-f3d9-44b1-ace1-ca915aebf0b8",
   "metadata": {},
   "outputs": [
    {
     "data": {
      "text/plain": [
       "0    2.0\n",
       "1    5.0\n",
       "2    9.0\n",
       "3    5.0\n",
       "dtype: float64"
      ]
     },
     "execution_count": 33,
     "metadata": {},
     "output_type": "execute_result"
    }
   ],
   "source": [
    "# 누락된 요소 값 명시적 지적 -> add.(fill_value=)\n",
    "A.add(B, fill_value = 0)"
   ]
  },
  {
   "cell_type": "code",
   "execution_count": 54,
   "id": "4c7a3fbb-7e2d-4841-a279-7edc9c0eb41c",
   "metadata": {},
   "outputs": [
    {
     "name": "stdout",
     "output_type": "stream",
     "text": [
      "   A   B\n",
      "0  5  15\n",
      "1  2  19 \n",
      "\n",
      "   B  A  C\n",
      "0  3  2  9\n",
      "1  2  2  3\n",
      "2  6  3  8 \n",
      "\n",
      "     A     B   C\n",
      "0  7.0  18.0 NaN\n",
      "1  4.0  21.0 NaN\n",
      "2  NaN   NaN NaN\n"
     ]
    },
    {
     "data": {
      "text/html": [
       "<div>\n",
       "<style scoped>\n",
       "    .dataframe tbody tr th:only-of-type {\n",
       "        vertical-align: middle;\n",
       "    }\n",
       "\n",
       "    .dataframe tbody tr th {\n",
       "        vertical-align: top;\n",
       "    }\n",
       "\n",
       "    .dataframe thead th {\n",
       "        text-align: right;\n",
       "    }\n",
       "</style>\n",
       "<table border=\"1\" class=\"dataframe\">\n",
       "  <thead>\n",
       "    <tr style=\"text-align: right;\">\n",
       "      <th></th>\n",
       "      <th>A</th>\n",
       "      <th>B</th>\n",
       "      <th>C</th>\n",
       "    </tr>\n",
       "  </thead>\n",
       "  <tbody>\n",
       "    <tr>\n",
       "      <th>0</th>\n",
       "      <td>7.00</td>\n",
       "      <td>18.00</td>\n",
       "      <td>19.25</td>\n",
       "    </tr>\n",
       "    <tr>\n",
       "      <th>1</th>\n",
       "      <td>4.00</td>\n",
       "      <td>21.00</td>\n",
       "      <td>13.25</td>\n",
       "    </tr>\n",
       "    <tr>\n",
       "      <th>2</th>\n",
       "      <td>13.25</td>\n",
       "      <td>16.25</td>\n",
       "      <td>18.25</td>\n",
       "    </tr>\n",
       "  </tbody>\n",
       "</table>\n",
       "</div>"
      ],
      "text/plain": [
       "       A      B      C\n",
       "0   7.00  18.00  19.25\n",
       "1   4.00  21.00  13.25\n",
       "2  13.25  16.25  18.25"
      ]
     },
     "execution_count": 54,
     "metadata": {},
     "output_type": "execute_result"
    }
   ],
   "source": [
    "# DataFrame 인덱스 정렬\n",
    "A = pd.DataFrame(rng.randint(0, 20, (2,2)),\n",
    "                 columns=list(\"AB\"))\n",
    "print(A, \"\\n\")\n",
    "\n",
    "B = pd.DataFrame(rng.randint(0, 10, (3,3)),\n",
    "                 columns=list(\"BAC\"))\n",
    "print(B, \"\\n\")\n",
    "print(A + B)\n",
    "\n",
    "# NaN 명시적 지적\n",
    "fill = A.stack().mean() # A 모든 값의 평균\n",
    "A.add(B, fill_value=fill)"
   ]
  },
  {
   "cell_type": "code",
   "execution_count": 60,
   "id": "98e5a9b2-bea7-4a02-8b51-5d27b4844958",
   "metadata": {},
   "outputs": [
    {
     "name": "stdout",
     "output_type": "stream",
     "text": [
      "[[3 5 7 3]\n",
      " [2 8 2 8]\n",
      " [1 1 1 5]]\n"
     ]
    },
    {
     "data": {
      "text/plain": [
       "array([[ 0,  0,  0,  0],\n",
       "       [-1,  3, -5,  5],\n",
       "       [-2, -4, -6,  2]])"
      ]
     },
     "execution_count": 60,
     "metadata": {},
     "output_type": "execute_result"
    }
   ],
   "source": [
    "# ufunc: DataFrame & Series\n",
    "A = rng.randint(10, size=(3,4))\n",
    "print(A)\n",
    "\n",
    "# A[0] -> first row\n",
    "# Broadcasting\n",
    "A - A[0]"
   ]
  },
  {
   "cell_type": "code",
   "execution_count": 88,
   "id": "e1bf2c85-bbaf-4b81-91dd-eea046491097",
   "metadata": {},
   "outputs": [
    {
     "name": "stdout",
     "output_type": "stream",
     "text": [
      "   Q  R  S  T\n",
      "0  3  5  7  3\n",
      "1  2  8  2  8\n",
      "2  1  1  1  5 \n",
      "\n",
      "   Q  R  S  T\n",
      "0  0  0  0  0\n",
      "1 -1  3 -5  5\n",
      "2 -2 -4 -6  2 \n",
      "\n",
      "   Q  R  S  T\n",
      "0 -2  0  2 -2\n",
      "1 -6  0 -6  0\n",
      "2  0  0  0  4 \n",
      "\n",
      "Q    3\n",
      "S    7\n",
      "Name: 0, dtype: int32\n"
     ]
    },
    {
     "data": {
      "text/html": [
       "<div>\n",
       "<style scoped>\n",
       "    .dataframe tbody tr th:only-of-type {\n",
       "        vertical-align: middle;\n",
       "    }\n",
       "\n",
       "    .dataframe tbody tr th {\n",
       "        vertical-align: top;\n",
       "    }\n",
       "\n",
       "    .dataframe thead th {\n",
       "        text-align: right;\n",
       "    }\n",
       "</style>\n",
       "<table border=\"1\" class=\"dataframe\">\n",
       "  <thead>\n",
       "    <tr style=\"text-align: right;\">\n",
       "      <th></th>\n",
       "      <th>Q</th>\n",
       "      <th>R</th>\n",
       "      <th>S</th>\n",
       "      <th>T</th>\n",
       "    </tr>\n",
       "  </thead>\n",
       "  <tbody>\n",
       "    <tr>\n",
       "      <th>0</th>\n",
       "      <td>0.0</td>\n",
       "      <td>NaN</td>\n",
       "      <td>0.0</td>\n",
       "      <td>NaN</td>\n",
       "    </tr>\n",
       "    <tr>\n",
       "      <th>1</th>\n",
       "      <td>-1.0</td>\n",
       "      <td>NaN</td>\n",
       "      <td>-5.0</td>\n",
       "      <td>NaN</td>\n",
       "    </tr>\n",
       "    <tr>\n",
       "      <th>2</th>\n",
       "      <td>-2.0</td>\n",
       "      <td>NaN</td>\n",
       "      <td>-6.0</td>\n",
       "      <td>NaN</td>\n",
       "    </tr>\n",
       "  </tbody>\n",
       "</table>\n",
       "</div>"
      ],
      "text/plain": [
       "     Q   R    S   T\n",
       "0  0.0 NaN  0.0 NaN\n",
       "1 -1.0 NaN -5.0 NaN\n",
       "2 -2.0 NaN -6.0 NaN"
      ]
     },
     "execution_count": 88,
     "metadata": {},
     "output_type": "execute_result"
    }
   ],
   "source": [
    "df = pd.DataFrame(A, columns=list(\"QRST\"))\n",
    "print(df, \"\\n\")\n",
    "# 행 방향\n",
    "print(df - df.iloc[0], \"\\n\") # df.iloc[0] -> first row\n",
    "\n",
    "# 열 방향 (axis 지정)\n",
    "print(df.subtract(df[\"R\"], axis=0), \"\\n\")\n",
    "\n",
    "# 인덱스 자동맞춤\n",
    "halfrow = df.iloc[0, ::2]\n",
    "print(halfrow)\n",
    "\n",
    "df - halfrow"
   ]
  },
  {
   "cell_type": "code",
   "execution_count": 96,
   "id": "0c0aa714-a356-430d-8674-63dc7f5e7159",
   "metadata": {},
   "outputs": [
    {
     "name": "stdout",
     "output_type": "stream",
     "text": [
      "dtype= object\n",
      "42 ms ± 1.08 ms per loop (mean ± std. dev. of 7 runs, 10 loops each)\n",
      "\n",
      "dtype= int\n",
      "1.7 ms ± 20.8 µs per loop (mean ± std. dev. of 7 runs, 1,000 loops each)\n",
      "\n"
     ]
    }
   ],
   "source": [
    "# 누락된 데이터 처리하기 (null, NaN, NA)\n",
    "\n",
    "# None: 파이썬의 누락된 데이터\n",
    "vals1 = np.array([1, None, 3, 4])\n",
    "vals1 # dtype = ojbect (파이썬 객체 -> 파이썬 수준 연산)\n",
    "\n",
    "for dtype in [\"object\", \"int\"]:\n",
    "    print(\"dtype=\", dtype)\n",
    "    %timeit np.arange(1E6, dtype=dtype).sum()\n",
    "    print() # obejct dtype is slower than int dtype"
   ]
  },
  {
   "cell_type": "code",
   "execution_count": 97,
   "id": "44f1d549-9f1e-47de-92f9-ee3953031e18",
   "metadata": {},
   "outputs": [
    {
     "ename": "TypeError",
     "evalue": "unsupported operand type(s) for +: 'int' and 'NoneType'",
     "output_type": "error",
     "traceback": [
      "\u001b[1;31m---------------------------------------------------------------------------\u001b[0m",
      "\u001b[1;31mTypeError\u001b[0m                                 Traceback (most recent call last)",
      "Input \u001b[1;32mIn [97]\u001b[0m, in \u001b[0;36m<cell line: 2>\u001b[1;34m()\u001b[0m\n\u001b[0;32m      1\u001b[0m \u001b[38;5;66;03m# None: 집계 연산 오류\u001b[39;00m\n\u001b[1;32m----> 2\u001b[0m \u001b[43mvals1\u001b[49m\u001b[38;5;241;43m.\u001b[39;49m\u001b[43msum\u001b[49m\u001b[43m(\u001b[49m\u001b[43m)\u001b[49m\n",
      "File \u001b[1;32m~\\AppData\\Local\\Programs\\Python\\Python310\\lib\\site-packages\\numpy\\core\\_methods.py:48\u001b[0m, in \u001b[0;36m_sum\u001b[1;34m(a, axis, dtype, out, keepdims, initial, where)\u001b[0m\n\u001b[0;32m     46\u001b[0m \u001b[38;5;28;01mdef\u001b[39;00m \u001b[38;5;21m_sum\u001b[39m(a, axis\u001b[38;5;241m=\u001b[39m\u001b[38;5;28;01mNone\u001b[39;00m, dtype\u001b[38;5;241m=\u001b[39m\u001b[38;5;28;01mNone\u001b[39;00m, out\u001b[38;5;241m=\u001b[39m\u001b[38;5;28;01mNone\u001b[39;00m, keepdims\u001b[38;5;241m=\u001b[39m\u001b[38;5;28;01mFalse\u001b[39;00m,\n\u001b[0;32m     47\u001b[0m          initial\u001b[38;5;241m=\u001b[39m_NoValue, where\u001b[38;5;241m=\u001b[39m\u001b[38;5;28;01mTrue\u001b[39;00m):\n\u001b[1;32m---> 48\u001b[0m     \u001b[38;5;28;01mreturn\u001b[39;00m \u001b[43mumr_sum\u001b[49m\u001b[43m(\u001b[49m\u001b[43ma\u001b[49m\u001b[43m,\u001b[49m\u001b[43m \u001b[49m\u001b[43maxis\u001b[49m\u001b[43m,\u001b[49m\u001b[43m \u001b[49m\u001b[43mdtype\u001b[49m\u001b[43m,\u001b[49m\u001b[43m \u001b[49m\u001b[43mout\u001b[49m\u001b[43m,\u001b[49m\u001b[43m \u001b[49m\u001b[43mkeepdims\u001b[49m\u001b[43m,\u001b[49m\u001b[43m \u001b[49m\u001b[43minitial\u001b[49m\u001b[43m,\u001b[49m\u001b[43m \u001b[49m\u001b[43mwhere\u001b[49m\u001b[43m)\u001b[49m\n",
      "\u001b[1;31mTypeError\u001b[0m: unsupported operand type(s) for +: 'int' and 'NoneType'"
     ]
    }
   ],
   "source": [
    "# None: 집계 연산 오류\n",
    "vals1.sum()"
   ]
  },
  {
   "cell_type": "code",
   "execution_count": 117,
   "id": "570b9ff3-ba4f-46e7-90b4-236e5cbf8d36",
   "metadata": {},
   "outputs": [
    {
     "data": {
      "text/plain": [
       "dtype('float64')"
      ]
     },
     "execution_count": 117,
     "metadata": {},
     "output_type": "execute_result"
    }
   ],
   "source": [
    "# NaN: 누락된 숫자 데이터\n",
    "vals2 = np.array([1, np.nan, 3, 4])\n",
    "vals2.dtype"
   ]
  },
  {
   "cell_type": "code",
   "execution_count": 118,
   "id": "ad9bdebd-f0db-4b85-aadc-5f232c85c647",
   "metadata": {},
   "outputs": [
    {
     "name": "stdout",
     "output_type": "stream",
     "text": [
      "nan\n",
      "nan\n",
      "nan nan nan\n",
      "8.0 1.0 4.0\n"
     ]
    }
   ],
   "source": [
    "# NaN: 데이터 바이러스 (접촉 객체 감염) -> NaN 포함 산술 결과 = NaN\n",
    "print(1 + np.nan)\n",
    "print(0 * np.nan)\n",
    "print(vals2.sum(), vals2.min(), vals2.max())\n",
    "\n",
    "# 누락된 값 무시 집계 연산 (nansum, nanmin, nanmax)\n",
    "print(np.nansum(vals2), np.nanmin(vals2), np.nanmax(vals2))"
   ]
  },
  {
   "cell_type": "code",
   "execution_count": 129,
   "id": "9025a521-81c6-40c5-b582-70e463ab1999",
   "metadata": {},
   "outputs": [
    {
     "name": "stdout",
     "output_type": "stream",
     "text": [
      "0    1.0\n",
      "1    NaN\n",
      "2    2.0\n",
      "3    NaN\n",
      "dtype: float64 \n",
      "\n",
      "0    0\n",
      "1    1\n",
      "dtype: int32 \n",
      "\n",
      "0    NaN\n",
      "1    1.0\n",
      "dtype: float64\n"
     ]
    }
   ],
   "source": [
    "# NaN & None in Pandas\n",
    "# 호환성 처리, 서로 변환\n",
    "print(pd.Series([1, np.nan, 2, None]), \"\\n\")\n",
    "\n",
    "# np.nan -> 부동 소수점 타입\n",
    "x = pd.Series(range(2), dtype=int)\n",
    "print(x, \"\\n\")\n",
    "\n",
    "x[0] = None # None changed to NaN\n",
    "print(x) # array type changed to float\n",
    "\n",
    "# Pandas에서 문자열 데이터 dtype은 항상 object"
   ]
  },
  {
   "cell_type": "code",
   "execution_count": 142,
   "id": "8bcd8b4a-1f41-4c76-be19-55ae35456edf",
   "metadata": {},
   "outputs": [
    {
     "name": "stdout",
     "output_type": "stream",
     "text": [
      "0    False\n",
      "1     True\n",
      "2    False\n",
      "3     True\n",
      "dtype: bool \n",
      "\n",
      "0        1\n",
      "2    hello\n",
      "dtype: object \n",
      "\n"
     ]
    }
   ],
   "source": [
    "# null 값 연산\n",
    "# isnull(), notnull(), dropna(), fillna()\n",
    "\n",
    "# null 값 탐지\n",
    "data = pd.Series([1, np.nan, \"hello\", None])\n",
    "\n",
    "print(data.isnull(), \"\\n\") # return bool mask\n",
    "print(data[data.notnull()], \"\\n\") # book masking"
   ]
  },
  {
   "cell_type": "code",
   "execution_count": 170,
   "id": "a3bf5fdf-3663-4eb6-bcb9-a20241838426",
   "metadata": {},
   "outputs": [
    {
     "name": "stdout",
     "output_type": "stream",
     "text": [
      "0        1\n",
      "2    hello\n",
      "dtype: object \n",
      "\n",
      "     0    1  2\n",
      "0  1.0  NaN  2\n",
      "1  2.0  3.0  5\n",
      "2  NaN  4.0  6 \n",
      "\n",
      "     0    1  2\n",
      "1  2.0  3.0  5 \n",
      "\n",
      "   2\n",
      "0  2\n",
      "1  5\n",
      "2  6 \n",
      "\n",
      "     0    1  2   3\n",
      "0  1.0  NaN  2 NaN\n",
      "1  2.0  3.0  5 NaN\n",
      "2  NaN  4.0  6 NaN \n",
      "\n",
      "     0    1  2\n",
      "0  1.0  NaN  2\n",
      "1  2.0  3.0  5\n",
      "2  NaN  4.0  6 \n",
      "\n",
      "   2\n",
      "0  2\n",
      "1  5\n",
      "2  6 \n",
      "\n",
      "     0    1  2   3\n",
      "1  2.0  3.0  5 NaN\n"
     ]
    }
   ],
   "source": [
    "# null 값 제거\n",
    "print(data.dropna(), \"\\n\") # Series\n",
    "\n",
    "df = pd.DataFrame([[1, np.nan, 2],\n",
    "                   [2, 3, 5],\n",
    "                   [np.nan, 4, 6],])\n",
    "print(df, \"\\n\")\n",
    "\n",
    "# dropna() -> drops all rows / cols(axis =1)\n",
    "print(df.dropna(), \"\\n\") # drops rows w null value\n",
    "print(df.dropna(axis=\"columns\"), \"\\n\") # drops cols w null value\n",
    "\n",
    "# how 매개변수 (any, all)\n",
    "df[3] = np.nan\n",
    "\n",
    "print(df, \"\\n\")\n",
    "print(df.dropna(axis=\"columns\", how=\"all\"), \"\\n\") # 모두 null 값인 행/열 삭제\n",
    "print(df.dropna(axis=\"columns\", how=\"any\"), \"\\n\") # 하나라도 null 값인 행/열 삭제\n",
    "print(df.dropna(axis=\"rows\", thresh=3)) # thresh 매개변수 -> null 값 최소 몇개"
   ]
  },
  {
   "cell_type": "code",
   "execution_count": 184,
   "id": "7710fbe1-ee05-4988-945b-027c5d580776",
   "metadata": {},
   "outputs": [
    {
     "name": "stdout",
     "output_type": "stream",
     "text": [
      "     0\n",
      "a  1.0\n",
      "b  NaN\n",
      "c  2.0\n",
      "d  NaN\n",
      "e  3.0 \n",
      "\n",
      "     0\n",
      "a  1.0\n",
      "b  0.0\n",
      "c  2.0\n",
      "d  0.0\n",
      "e  3.0 \n",
      "\n",
      "     0\n",
      "a  1.0\n",
      "b  1.0\n",
      "c  2.0\n",
      "d  2.0\n",
      "e  3.0 \n",
      "\n",
      "     0\n",
      "a  1.0\n",
      "b  2.0\n",
      "c  2.0\n",
      "d  3.0\n",
      "e  3.0 \n",
      "\n",
      "     0    1  2   3\n",
      "0  1.0  NaN  2 NaN\n",
      "1  2.0  3.0  5 NaN\n",
      "2  NaN  4.0  6 NaN \n",
      "\n",
      "     0    1    2    3\n",
      "0  1.0  1.0  2.0  2.0\n",
      "1  2.0  3.0  5.0  5.0\n",
      "2  NaN  4.0  6.0  6.0 \n",
      "\n"
     ]
    }
   ],
   "source": [
    "# null 값 채우기\n",
    "data = pd.DataFrame([1, np.nan, 2, None, 3], index=list(\"abcde\"))\n",
    "print(data, \"\\n\")\n",
    "\n",
    "# null 값에 0 채우기\n",
    "print(data.fillna(0), \"\\n\")\n",
    "\n",
    "# null 값에 이전 값 채우기 (forward-fill)\n",
    "print(data.fillna(method=\"ffill\"), \"\\n\")\n",
    "\n",
    "# null 값에 뒤에 값 채우기 (back-fill)\n",
    "print(data.fillna(method=\"bfill\"), \"\\n\")\n",
    "\n",
    "# 채우기 axis 설정\n",
    "print(df, \"\\n\")\n",
    "print(df.fillna(method=\"ffill\", axis=1), \"\\n\")"
   ]
  },
  {
   "cell_type": "code",
   "execution_count": null,
   "id": "43425f6a-4b67-4822-8eda-477afed49e55",
   "metadata": {},
   "outputs": [],
   "source": []
  }
 ],
 "metadata": {
  "kernelspec": {
   "display_name": "Python 3 (ipykernel)",
   "language": "python",
   "name": "python3"
  },
  "language_info": {
   "codemirror_mode": {
    "name": "ipython",
    "version": 3
   },
   "file_extension": ".py",
   "mimetype": "text/x-python",
   "name": "python",
   "nbconvert_exporter": "python",
   "pygments_lexer": "ipython3",
   "version": "3.10.5"
  }
 },
 "nbformat": 4,
 "nbformat_minor": 5
}
