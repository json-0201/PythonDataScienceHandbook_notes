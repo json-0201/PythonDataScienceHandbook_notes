{
 "cells": [
  {
   "cell_type": "code",
   "execution_count": 5,
   "id": "4c0a9c3e-c593-40b9-8421-68219113a0fd",
   "metadata": {},
   "outputs": [
    {
     "name": "stdout",
     "output_type": "stream",
     "text": [
      "3.08 ms ± 94.7 µs per loop (mean ± std. dev. of 7 runs, 100 loops each)\n",
      "191 ms ± 5.2 ms per loop (mean ± std. dev. of 7 runs, 10 loops each)\n"
     ]
    }
   ],
   "source": [
    "# 고성능 Pandas: eval(), query()\n",
    "\n",
    "# query()와 eval()의 등장 배경: 복합 표현식\n",
    "import numpy as np\n",
    "rng = np.random.RandomState(42)\n",
    "x = rng.rand(1000000)\n",
    "y = rng.rand(1000000)\n",
    "%timeit x + y\n",
    "\n",
    "# 복합 표현식 계산 -> 떨어진 효율성\n",
    "%timeit np.fromiter((xi + yi for xi, yi in zip(x,y)), dtype=x.dtype, count=len(x))"
   ]
  },
  {
   "cell_type": "code",
   "execution_count": 10,
   "id": "30980fc7-196e-486f-adb9-efd006e2a8b7",
   "metadata": {},
   "outputs": [
    {
     "data": {
      "text/plain": [
       "True"
      ]
     },
     "execution_count": 10,
     "metadata": {},
     "output_type": "execute_result"
    }
   ],
   "source": [
    "mask = (x > 0.5) & (y < 0.5)\n",
    "# tmp1 = (x > 0.5)\n",
    "# tmp2 = (y < 0.5)\n",
    "# mask = tmp1 & tmp2 -> 모든 중간 단계가 명시적 메모리 할당\n",
    "\n",
    "# Numexpr -> 효율적 계산\n",
    "import numexpr\n",
    "mask_numexpr = numexpr.evaluate(\"(x > 0.5) & (y < 0.5)\")\n",
    "np.allclose(mask, mask_numexpr) # return True if all elements are equal"
   ]
  },
  {
   "cell_type": "code",
   "execution_count": 16,
   "id": "55930d16-4f23-47a4-b32f-76ac979b1e97",
   "metadata": {},
   "outputs": [
    {
     "name": "stdout",
     "output_type": "stream",
     "text": [
      "1.16 s ± 17.3 ms per loop (mean ± std. dev. of 7 runs, 1 loop each)\n"
     ]
    }
   ],
   "source": [
    "# 효율적인 연산, pandas.eval()\n",
    "import pandas as pd\n",
    "nrows, ncols = 1000000, 100\n",
    "rng = np.random.RandomState(42)\n",
    "df1, df2, df3, df4 = (pd.DataFrame(rng.rand(nrows, ncols))\n",
    "                      for i in range(4))\n",
    "\n",
    "# 전형적인 Pandas 방식\n",
    "%timeit df1 + df2 + df3 + df4"
   ]
  },
  {
   "cell_type": "code",
   "execution_count": 19,
   "id": "5f333295-d5ee-4f77-84f4-8b1680bd3018",
   "metadata": {},
   "outputs": [
    {
     "name": "stdout",
     "output_type": "stream",
     "text": [
      "465 ms ± 17.8 ms per loop (mean ± std. dev. of 7 runs, 1 loop each)\n"
     ]
    }
   ],
   "source": [
    "# pd.eval(expr)\n",
    "%timeit pd.eval(\"df1 + df2 + df3 + df4\") # same result, 50% faster"
   ]
  },
  {
   "cell_type": "code",
   "execution_count": 20,
   "id": "b3283f81-135c-4b31-8cc0-15aa575a9a0f",
   "metadata": {},
   "outputs": [
    {
     "data": {
      "text/plain": [
       "True"
      ]
     },
     "execution_count": 20,
     "metadata": {},
     "output_type": "execute_result"
    }
   ],
   "source": [
    "np.allclose(df1 + df2 + df3 + df4, pd.eval(\"df1 + df2 + df3 + df4\"))"
   ]
  },
  {
   "cell_type": "code",
   "execution_count": 24,
   "id": "8fa63a8b-3202-4b1f-b039-b00f8e37d8fd",
   "metadata": {},
   "outputs": [],
   "source": [
    "# pd.eval() 지원 연산\n",
    "df1, df2, df3, df4, df5 = (pd.DataFrame(rng.randint(0, 1000, (100,3)))\n",
    "                           for i in range(5))"
   ]
  },
  {
   "cell_type": "code",
   "execution_count": 32,
   "id": "e592ab4d-c776-4f57-980f-69a01e38ba40",
   "metadata": {},
   "outputs": [
    {
     "name": "stdout",
     "output_type": "stream",
     "text": [
      "True \n",
      "\n",
      "True \n",
      "\n",
      "True \n",
      "\n",
      "True \n",
      "\n"
     ]
    }
   ],
   "source": [
    "result1 = -df1 * df2 / (df3 + df4) - df5\n",
    "result2 = pd.eval(\"-df1 * df2 / (df3 + df4) - df5\") # 산술 연산자\n",
    "print(np.allclose(result1, result2), \"\\n\")\n",
    "\n",
    "result1 = (df1 < df2) & (df2 <= df3) & (df3 != df4)\n",
    "result2 = pd.eval(\"df1 < df2 <= df3 != df4\") # 연쇄 표현식\n",
    "print(np.allclose(result1, result2), \"\\n\")\n",
    "\n",
    "result1 = (df1 < 0.5) & (df2 < 0.5) | (df3 < df4)\n",
    "result2 = pd.eval(\"(df1 < 0.5) & (df2 < 0.5) | (df3 < df4)\") # 비트 단위 연산자\n",
    "print(np.allclose(result1, result2), \"\\n\")\n",
    "\n",
    "result3 = pd.eval(\"(df1 < 0.5) and (df2 < 0.5) or (df3 < df4)\") # 부울 표현식 and/or\n",
    "print(np.allclose(result1, result3), \"\\n\")"
   ]
  },
  {
   "cell_type": "code",
   "execution_count": 47,
   "id": "427daff5-58a5-4e81-a806-81b4a18c7562",
   "metadata": {},
   "outputs": [
    {
     "data": {
      "text/plain": [
       "True"
      ]
     },
     "execution_count": 47,
     "metadata": {},
     "output_type": "execute_result"
    }
   ],
   "source": [
    "# pd.eval -> obj.attr(객체 속성), obj[index](인덱스)\n",
    "result1 = df2.T[0] + df3.iloc[1] # Transpose, iloc -> Series addition\n",
    "result2 = pd.eval(\"df2.T[0] + df3.iloc[1]\")\n",
    "np.allclose(result1, result2)"
   ]
  },
  {
   "cell_type": "code",
   "execution_count": 62,
   "id": "dad9b677-4d5b-4b13-bec5-c93af5fbe4e5",
   "metadata": {},
   "outputs": [
    {
     "data": {
      "text/html": [
       "<div>\n",
       "<style scoped>\n",
       "    .dataframe tbody tr th:only-of-type {\n",
       "        vertical-align: middle;\n",
       "    }\n",
       "\n",
       "    .dataframe tbody tr th {\n",
       "        vertical-align: top;\n",
       "    }\n",
       "\n",
       "    .dataframe thead th {\n",
       "        text-align: right;\n",
       "    }\n",
       "</style>\n",
       "<table border=\"1\" class=\"dataframe\">\n",
       "  <thead>\n",
       "    <tr style=\"text-align: right;\">\n",
       "      <th></th>\n",
       "      <th>A</th>\n",
       "      <th>B</th>\n",
       "      <th>C</th>\n",
       "    </tr>\n",
       "  </thead>\n",
       "  <tbody>\n",
       "    <tr>\n",
       "      <th>0</th>\n",
       "      <td>0.364333</td>\n",
       "      <td>0.677048</td>\n",
       "      <td>0.245342</td>\n",
       "    </tr>\n",
       "    <tr>\n",
       "      <th>1</th>\n",
       "      <td>0.151569</td>\n",
       "      <td>0.304225</td>\n",
       "      <td>0.214416</td>\n",
       "    </tr>\n",
       "    <tr>\n",
       "      <th>2</th>\n",
       "      <td>0.978796</td>\n",
       "      <td>0.642858</td>\n",
       "      <td>0.723475</td>\n",
       "    </tr>\n",
       "    <tr>\n",
       "      <th>3</th>\n",
       "      <td>0.128616</td>\n",
       "      <td>0.610127</td>\n",
       "      <td>0.941799</td>\n",
       "    </tr>\n",
       "    <tr>\n",
       "      <th>4</th>\n",
       "      <td>0.516463</td>\n",
       "      <td>0.980759</td>\n",
       "      <td>0.306461</td>\n",
       "    </tr>\n",
       "  </tbody>\n",
       "</table>\n",
       "</div>"
      ],
      "text/plain": [
       "          A         B         C\n",
       "0  0.364333  0.677048  0.245342\n",
       "1  0.151569  0.304225  0.214416\n",
       "2  0.978796  0.642858  0.723475\n",
       "3  0.128616  0.610127  0.941799\n",
       "4  0.516463  0.980759  0.306461"
      ]
     },
     "execution_count": 62,
     "metadata": {},
     "output_type": "execute_result"
    }
   ],
   "source": [
    "# 열 단위 연산을 위한 DataFrame.eval()\n",
    "df = pd.DataFrame(rng.rand(1000, 3), columns=[\"A\",\"B\",\"C\"])\n",
    "df.head()"
   ]
  },
  {
   "cell_type": "code",
   "execution_count": 63,
   "id": "150ea88f-4a59-4d23-943f-4f1f6cfc88c2",
   "metadata": {},
   "outputs": [
    {
     "data": {
      "text/plain": [
       "True"
      ]
     },
     "execution_count": 63,
     "metadata": {},
     "output_type": "execute_result"
    }
   ],
   "source": [
    "result1 = (df[\"A\"] + df[\"B\"]) / (df[\"C\"] - 1)\n",
    "result2 = pd.eval(\"(df.A + df.B) / (df.C - 1)\")\n",
    "np.allclose(result1, result2)"
   ]
  },
  {
   "cell_type": "code",
   "execution_count": 64,
   "id": "d9034ad7-5b0d-42f9-8a79-6d0aff5f4ff7",
   "metadata": {},
   "outputs": [
    {
     "data": {
      "text/plain": [
       "True"
      ]
     },
     "execution_count": 64,
     "metadata": {},
     "output_type": "execute_result"
    }
   ],
   "source": [
    "# DataFrame.eval() -> 열 이름으로 표현\n",
    "result3 = df.eval(\"(A+B)/(C-1)\")\n",
    "np.allclose(result1, result3)"
   ]
  },
  {
   "cell_type": "code",
   "execution_count": 65,
   "id": "d6a6d021-9b0a-4744-a7a3-572176b28e54",
   "metadata": {},
   "outputs": [
    {
     "name": "stdout",
     "output_type": "stream",
     "text": [
      "          A         B         C\n",
      "0  0.364333  0.677048  0.245342\n",
      "1  0.151569  0.304225  0.214416\n",
      "2  0.978796  0.642858  0.723475\n",
      "3  0.128616  0.610127  0.941799\n",
      "4  0.516463  0.980759  0.306461 \n",
      "\n"
     ]
    },
    {
     "data": {
      "text/html": [
       "<div>\n",
       "<style scoped>\n",
       "    .dataframe tbody tr th:only-of-type {\n",
       "        vertical-align: middle;\n",
       "    }\n",
       "\n",
       "    .dataframe tbody tr th {\n",
       "        vertical-align: top;\n",
       "    }\n",
       "\n",
       "    .dataframe thead th {\n",
       "        text-align: right;\n",
       "    }\n",
       "</style>\n",
       "<table border=\"1\" class=\"dataframe\">\n",
       "  <thead>\n",
       "    <tr style=\"text-align: right;\">\n",
       "      <th></th>\n",
       "      <th>A</th>\n",
       "      <th>B</th>\n",
       "      <th>C</th>\n",
       "      <th>D</th>\n",
       "    </tr>\n",
       "  </thead>\n",
       "  <tbody>\n",
       "    <tr>\n",
       "      <th>0</th>\n",
       "      <td>0.364333</td>\n",
       "      <td>0.677048</td>\n",
       "      <td>0.245342</td>\n",
       "      <td>4.244606</td>\n",
       "    </tr>\n",
       "    <tr>\n",
       "      <th>1</th>\n",
       "      <td>0.151569</td>\n",
       "      <td>0.304225</td>\n",
       "      <td>0.214416</td>\n",
       "      <td>2.125743</td>\n",
       "    </tr>\n",
       "    <tr>\n",
       "      <th>2</th>\n",
       "      <td>0.978796</td>\n",
       "      <td>0.642858</td>\n",
       "      <td>0.723475</td>\n",
       "      <td>2.241478</td>\n",
       "    </tr>\n",
       "    <tr>\n",
       "      <th>3</th>\n",
       "      <td>0.128616</td>\n",
       "      <td>0.610127</td>\n",
       "      <td>0.941799</td>\n",
       "      <td>0.784395</td>\n",
       "    </tr>\n",
       "    <tr>\n",
       "      <th>4</th>\n",
       "      <td>0.516463</td>\n",
       "      <td>0.980759</td>\n",
       "      <td>0.306461</td>\n",
       "      <td>4.885530</td>\n",
       "    </tr>\n",
       "  </tbody>\n",
       "</table>\n",
       "</div>"
      ],
      "text/plain": [
       "          A         B         C         D\n",
       "0  0.364333  0.677048  0.245342  4.244606\n",
       "1  0.151569  0.304225  0.214416  2.125743\n",
       "2  0.978796  0.642858  0.723475  2.241478\n",
       "3  0.128616  0.610127  0.941799  0.784395\n",
       "4  0.516463  0.980759  0.306461  4.885530"
      ]
     },
     "execution_count": 65,
     "metadata": {},
     "output_type": "execute_result"
    }
   ],
   "source": [
    "# df.eval() 열 할당\n",
    "print(df.head(), \"\\n\")\n",
    "\n",
    "df.eval(\"D = (A + B) / C\", inplace=True)\n",
    "# ORdf[\"D\"] = df.eval(\"(A + B) / C\")\n",
    "\n",
    "df.head()"
   ]
  },
  {
   "cell_type": "code",
   "execution_count": 66,
   "id": "3ee4662c-24a8-401f-a1b6-9e927a3621ab",
   "metadata": {},
   "outputs": [
    {
     "data": {
      "text/html": [
       "<div>\n",
       "<style scoped>\n",
       "    .dataframe tbody tr th:only-of-type {\n",
       "        vertical-align: middle;\n",
       "    }\n",
       "\n",
       "    .dataframe tbody tr th {\n",
       "        vertical-align: top;\n",
       "    }\n",
       "\n",
       "    .dataframe thead th {\n",
       "        text-align: right;\n",
       "    }\n",
       "</style>\n",
       "<table border=\"1\" class=\"dataframe\">\n",
       "  <thead>\n",
       "    <tr style=\"text-align: right;\">\n",
       "      <th></th>\n",
       "      <th>A</th>\n",
       "      <th>B</th>\n",
       "      <th>C</th>\n",
       "      <th>D</th>\n",
       "    </tr>\n",
       "  </thead>\n",
       "  <tbody>\n",
       "    <tr>\n",
       "      <th>0</th>\n",
       "      <td>0.364333</td>\n",
       "      <td>0.677048</td>\n",
       "      <td>0.245342</td>\n",
       "      <td>-1.274606</td>\n",
       "    </tr>\n",
       "    <tr>\n",
       "      <th>1</th>\n",
       "      <td>0.151569</td>\n",
       "      <td>0.304225</td>\n",
       "      <td>0.214416</td>\n",
       "      <td>-0.711958</td>\n",
       "    </tr>\n",
       "    <tr>\n",
       "      <th>2</th>\n",
       "      <td>0.978796</td>\n",
       "      <td>0.642858</td>\n",
       "      <td>0.723475</td>\n",
       "      <td>0.464340</td>\n",
       "    </tr>\n",
       "    <tr>\n",
       "      <th>3</th>\n",
       "      <td>0.128616</td>\n",
       "      <td>0.610127</td>\n",
       "      <td>0.941799</td>\n",
       "      <td>-0.511268</td>\n",
       "    </tr>\n",
       "    <tr>\n",
       "      <th>4</th>\n",
       "      <td>0.516463</td>\n",
       "      <td>0.980759</td>\n",
       "      <td>0.306461</td>\n",
       "      <td>-1.515028</td>\n",
       "    </tr>\n",
       "  </tbody>\n",
       "</table>\n",
       "</div>"
      ],
      "text/plain": [
       "          A         B         C         D\n",
       "0  0.364333  0.677048  0.245342 -1.274606\n",
       "1  0.151569  0.304225  0.214416 -0.711958\n",
       "2  0.978796  0.642858  0.723475  0.464340\n",
       "3  0.128616  0.610127  0.941799 -0.511268\n",
       "4  0.516463  0.980759  0.306461 -1.515028"
      ]
     },
     "execution_count": 66,
     "metadata": {},
     "output_type": "execute_result"
    }
   ],
   "source": [
    "# df.eval() -> 기존 열 수정\n",
    "df.eval(\"D = (A - B) / C\", inplace=True)\n",
    "# ORdf[\"D\"] = df.eval(\"(A + B) / C\")\n",
    "\n",
    "df.head()"
   ]
  },
  {
   "cell_type": "code",
   "execution_count": 73,
   "id": "57a5dee8-ec6a-4d34-9f62-f46cfaf637a7",
   "metadata": {},
   "outputs": [
    {
     "data": {
      "text/plain": [
       "True"
      ]
     },
     "execution_count": 73,
     "metadata": {},
     "output_type": "execute_result"
    }
   ],
   "source": [
    "# df.eval() 지역변수\n",
    "column_mean = df.mean(1) # mean of all columns\n",
    "result1 = df[\"A\"] + column_mean\n",
    "result2 = df.eval(\"A + @column_mean\") # @ -> call for variable (namespace)\n",
    "np.allclose(result1, result2)"
   ]
  },
  {
   "cell_type": "code",
   "execution_count": 83,
   "id": "088baf8d-fb86-4d59-8fc7-6f4ce53f530c",
   "metadata": {},
   "outputs": [
    {
     "data": {
      "text/plain": [
       "True"
      ]
     },
     "execution_count": 83,
     "metadata": {},
     "output_type": "execute_result"
    }
   ],
   "source": [
    "# DataFrame.query() method\n",
    "result1 = df[(df.A < 0.5) & (df.B < 0.5)]\n",
    "result2 = pd.eval(\"df[(df.A < 0.5) & (df.B < 0.5)]\")\n",
    "np.allclose(result1, result2)"
   ]
  },
  {
   "cell_type": "code",
   "execution_count": 84,
   "id": "a5dd6852-9391-44d3-a5e8-efc77bd069c0",
   "metadata": {},
   "outputs": [
    {
     "name": "stdout",
     "output_type": "stream",
     "text": [
      "True\n",
      "True\n"
     ]
    }
   ],
   "source": [
    "# df.query(expr)\n",
    "result2 = df.query(\"A < 0.5 and B < 0.5\")\n",
    "print(np.allclose(result1, result2))\n",
    "\n",
    "# .query() 지역변수 (@)\n",
    "Cmean = df[\"C\"].mean()\n",
    "result1 = df[(df.A < Cmean) & (df.B < Cmean)]\n",
    "result2 = df.query(\"A < @Cmean and B < @Cmean\")\n",
    "print(np.allclose(result1, result2))"
   ]
  },
  {
   "cell_type": "code",
   "execution_count": 87,
   "id": "18914309-954b-469d-9867-5ba02a0d1eac",
   "metadata": {},
   "outputs": [
    {
     "data": {
      "text/plain": [
       "32000"
      ]
     },
     "execution_count": 87,
     "metadata": {},
     "output_type": "execute_result"
    }
   ],
   "source": [
    "# df.query() = 성능\n",
    "\n",
    "x = df[(df.A < 0.5) & (df.B < 0.5)]\n",
    "\n",
    "# is equal to\n",
    "# tmp1 = df.A < 0.5\n",
    "# tmp2 = df.B < 0.5\n",
    "# tmp3 = tmp1 & tmp2\n",
    "# x = df[tmp3]\n",
    "# 임시 df 크기가 시스템 메모리에 비해 상당히 크다면 -> eval(), query()\n",
    "\n",
    "df.values.nbytes\n",
    "# eval(), query() -> 메모리 절약, 깔끔한 구문"
   ]
  }
 ],
 "metadata": {
  "kernelspec": {
   "display_name": "Python 3 (ipykernel)",
   "language": "python",
   "name": "python3"
  },
  "language_info": {
   "codemirror_mode": {
    "name": "ipython",
    "version": 3
   },
   "file_extension": ".py",
   "mimetype": "text/x-python",
   "name": "python",
   "nbconvert_exporter": "python",
   "pygments_lexer": "ipython3",
   "version": "3.10.5"
  }
 },
 "nbformat": 4,
 "nbformat_minor": 5
}
