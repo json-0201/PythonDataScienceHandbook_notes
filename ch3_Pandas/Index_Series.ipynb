{
 "cells": [
  {
   "cell_type": "code",
   "execution_count": 1,
   "id": "b86bb86c-94b8-4c20-b6da-226508d39ee2",
   "metadata": {},
   "outputs": [],
   "source": [
    "import numpy as np, pandas as pd"
   ]
  },
  {
   "cell_type": "code",
   "execution_count": 2,
   "id": "5b9d9342-eb15-4bb8-9532-091cb0ef2894",
   "metadata": {},
   "outputs": [
    {
     "data": {
      "text/plain": [
       "Int64Index([2, 3, 5, 7, 11], dtype='int64')"
      ]
     },
     "execution_count": 2,
     "metadata": {},
     "output_type": "execute_result"
    }
   ],
   "source": [
    "# Index 객체\n",
    "# 정수 리스트 -> Index\n",
    "ind = pd.Index([2, 3, 5, 7, 11])\n",
    "ind"
   ]
  },
  {
   "cell_type": "code",
   "execution_count": 5,
   "id": "e0994b0e-f007-4b5c-9666-cb9ec071feb0",
   "metadata": {},
   "outputs": [
    {
     "name": "stdout",
     "output_type": "stream",
     "text": [
      "3\n",
      "Int64Index([2, 5, 11], dtype='int64') \n",
      "\n",
      "5 (5,) 1 int64\n"
     ]
    }
   ],
   "source": [
    "# Index 불변의 배열\n",
    "print(ind[1])\n",
    "print(ind[::2], \"\\n\")\n",
    "\n",
    "# NumPy 배열에서 익숙한 속성\n",
    "print(ind.size, ind.shape, ind.ndim, ind.dtype)"
   ]
  },
  {
   "cell_type": "code",
   "execution_count": 7,
   "id": "36e64ce5-56dd-4df0-beed-03f792b9d111",
   "metadata": {},
   "outputs": [
    {
     "ename": "TypeError",
     "evalue": "Index does not support mutable operations",
     "output_type": "error",
     "traceback": [
      "\u001b[1;31m---------------------------------------------------------------------------\u001b[0m",
      "\u001b[1;31mTypeError\u001b[0m                                 Traceback (most recent call last)",
      "Input \u001b[1;32mIn [7]\u001b[0m, in \u001b[0;36m<cell line: 2>\u001b[1;34m()\u001b[0m\n\u001b[0;32m      1\u001b[0m \u001b[38;5;66;03m# Index 객체 불변의 값\u001b[39;00m\n\u001b[1;32m----> 2\u001b[0m \u001b[43mind\u001b[49m\u001b[43m[\u001b[49m\u001b[38;5;241;43m1\u001b[39;49m\u001b[43m]\u001b[49m \u001b[38;5;241m=\u001b[39m \u001b[38;5;241m0\u001b[39m\n",
      "File \u001b[1;32m~\\AppData\\Local\\Programs\\Python\\Python310\\lib\\site-packages\\pandas\\core\\indexes\\base.py:5021\u001b[0m, in \u001b[0;36mIndex.__setitem__\u001b[1;34m(self, key, value)\u001b[0m\n\u001b[0;32m   5019\u001b[0m \u001b[38;5;129m@final\u001b[39m\n\u001b[0;32m   5020\u001b[0m \u001b[38;5;28;01mdef\u001b[39;00m \u001b[38;5;21m__setitem__\u001b[39m(\u001b[38;5;28mself\u001b[39m, key, value):\n\u001b[1;32m-> 5021\u001b[0m     \u001b[38;5;28;01mraise\u001b[39;00m \u001b[38;5;167;01mTypeError\u001b[39;00m(\u001b[38;5;124m\"\u001b[39m\u001b[38;5;124mIndex does not support mutable operations\u001b[39m\u001b[38;5;124m\"\u001b[39m)\n",
      "\u001b[1;31mTypeError\u001b[0m: Index does not support mutable operations"
     ]
    }
   ],
   "source": [
    "# Index 객체 불변의 값\n",
    "ind[1] = 0 # TypeError(\"Index does not support mutable operations\")"
   ]
  },
  {
   "cell_type": "code",
   "execution_count": 18,
   "id": "9f299e0d-676c-4380-9483-6295527773a5",
   "metadata": {},
   "outputs": [
    {
     "name": "stdout",
     "output_type": "stream",
     "text": [
      "Int64Index([3, 5, 7], dtype='int64')\n",
      "Int64Index([1, 2, 3, 5, 7, 9, 11], dtype='int64')\n",
      "Int64Index([1, 2, 9, 11], dtype='int64')\n"
     ]
    }
   ],
   "source": [
    "# Index: 정렬된 집합\n",
    "# 대채로 파이썬 set 데이터 구조 표기법을 따르기\n",
    "indA = pd.Index([1, 3, 5, 7, 9])\n",
    "indB = pd.Index([2, 3, 5, 7, 11])\n",
    "\n",
    "print(indA.intersection(indB)) # 교집합\n",
    "print(indA.union(indB)) # 합집합\n",
    "print(indA.symmetric_difference(indB)) # 대칭 차"
   ]
  },
  {
   "cell_type": "code",
   "execution_count": 39,
   "id": "6a340a7c-f9f2-4635-88fc-573db94441e9",
   "metadata": {},
   "outputs": [
    {
     "name": "stdout",
     "output_type": "stream",
     "text": [
      "a    0.25\n",
      "b    0.50\n",
      "c    0.75\n",
      "d    1.00\n",
      "dtype: float64 \n",
      "\n",
      "True\n",
      "Index(['a', 'b', 'c', 'd'], dtype='object')\n",
      "[('a', 0.25), ('b', 0.5), ('c', 0.75), ('d', 1.0)]\n"
     ]
    }
   ],
   "source": [
    "# 데이터 인덱싱과 선택\n",
    "# 1. Series에서 데이터 선택 (dictionary 유사)\n",
    "data = pd.Series([0.25, 0.5, 0.75, 1.0],\n",
    "                 index=[\"a\",\"b\",\"c\",\"d\"],)\n",
    "print(data, \"\\n\")\n",
    "\n",
    "print(\"a\" in data) # key value(dict) in Series\n",
    "print(data.keys()) # keys(indices) in Series\n",
    "print(list(data.items())) # .items() [zip object] to list -> key:value pairs"
   ]
  },
  {
   "cell_type": "code",
   "execution_count": 42,
   "id": "40e70026-cc6d-4fcc-87d8-3af482118674",
   "metadata": {},
   "outputs": [
    {
     "data": {
      "text/plain": [
       "a    0.25\n",
       "b    0.50\n",
       "c    0.75\n",
       "d    1.00\n",
       "e    1.25\n",
       "dtype: float64"
      ]
     },
     "execution_count": 42,
     "metadata": {},
     "output_type": "execute_result"
    }
   ],
   "source": [
    "# 새로운 인덱스 값 할당, Series 확장\n",
    "data[\"e\"] = 1.25\n",
    "data"
   ]
  },
  {
   "cell_type": "code",
   "execution_count": 50,
   "id": "a60aa8a8-c8bf-4581-a92a-b8e420e12301",
   "metadata": {},
   "outputs": [
    {
     "name": "stdout",
     "output_type": "stream",
     "text": [
      "a    0.25\n",
      "b    0.50\n",
      "c    0.75\n",
      "dtype: float64\n",
      "a    0.25\n",
      "b    0.50\n",
      "c    0.75\n",
      "dtype: float64 \n",
      "\n",
      "b    0.50\n",
      "c    0.75\n",
      "dtype: float64 \n",
      "\n",
      "a    0.25\n",
      "e    1.25\n",
      "dtype: float64\n"
     ]
    }
   ],
   "source": [
    "# Series: 1차원 배열\n",
    "# 슬라이스, 마스킹, 팬시 인덱싱...\n",
    "\n",
    "print(data[\"a\":\"c\"]) # 명시적 인덱스 슬라이싱 (end index -> inclusive)\n",
    "print(data[0:3], \"\\n\") # 암묵적 정수 인덱스 슬라이싱 (end index -> exclusive)\n",
    "\n",
    "print(data[(data > 0.3) & (data < 0.8)], \"\\n\") # bool 마스킹\n",
    "print(data[[\"a\", \"e\"]]) # 팬시 인덱싱"
   ]
  },
  {
   "cell_type": "code",
   "execution_count": 55,
   "id": "d8570998-b311-4280-9fdc-c912ab1c1a59",
   "metadata": {},
   "outputs": [
    {
     "name": "stdout",
     "output_type": "stream",
     "text": [
      "1    a\n",
      "3    b\n",
      "5    c\n",
      "dtype: object \n",
      "\n",
      "a \n",
      "\n",
      "3    b\n",
      "5    c\n",
      "dtype: object\n"
     ]
    }
   ],
   "source": [
    "# 인덱서: loc, iloc, ix\n",
    "data = pd.Series([\"a\",\"b\",\"c\",],\n",
    "                 index=[1,3,5,],) # 명시적 정수 인덱스\n",
    "print(data, \"\\n\")\n",
    "\n",
    "# 인덱싱할 때 명시적인 인덱스 사용\n",
    "print(data[1], \"\\n\")\n",
    "\n",
    "# 슬라이싱할 때 암묵적 인덱스 사용\n",
    "print(data[1:3])\n",
    "\n",
    "# 혼선 발생 -> 인덱서(indexer) 속성 사용"
   ]
  },
  {
   "cell_type": "code",
   "execution_count": 58,
   "id": "722864c5-59c3-4722-8adf-9226c4b70c43",
   "metadata": {},
   "outputs": [
    {
     "name": "stdout",
     "output_type": "stream",
     "text": [
      "a \n",
      "\n",
      "1    a\n",
      "3    b\n",
      "dtype: object \n",
      "\n",
      "b \n",
      "\n",
      "3    b\n",
      "5    c\n",
      "dtype: object\n"
     ]
    }
   ],
   "source": [
    "# indexer 속성 #1: loc\n",
    "# 명시적 인덱스 사용 (may or may not be integer)\n",
    "\n",
    "print(data.loc[1], \"\\n\") # \"a\" -> index = 1\n",
    "print(data.loc[1:3], \"\\n\") # \"a\"-> index=1, \"c\"-> index=3 (explicit: end index inclusive)\n",
    "\n",
    "# indexer 속성 #2: iloc\n",
    "# 암묵적 인덱스 사용 (always integer)\n",
    "print(data.iloc[1], \"\\n\") # implicit index 1 -> second item\n",
    "print(data.iloc[1:3]) # second to third item (implicit: end index exclusive)"
   ]
  },
  {
   "cell_type": "code",
   "execution_count": null,
   "id": "7203e67e-6b94-403e-8402-ee705dc9002f",
   "metadata": {},
   "outputs": [],
   "source": []
  }
 ],
 "metadata": {
  "kernelspec": {
   "display_name": "Python 3 (ipykernel)",
   "language": "python",
   "name": "python3"
  },
  "language_info": {
   "codemirror_mode": {
    "name": "ipython",
    "version": 3
   },
   "file_extension": ".py",
   "mimetype": "text/x-python",
   "name": "python",
   "nbconvert_exporter": "python",
   "pygments_lexer": "ipython3",
   "version": "3.10.5"
  }
 },
 "nbformat": 4,
 "nbformat_minor": 5
}
