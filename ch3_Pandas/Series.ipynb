{
 "cells": [
  {
   "cell_type": "code",
   "execution_count": 1,
   "id": "1ab1c818-b3f2-455a-948b-09503acf0fd9",
   "metadata": {},
   "outputs": [
    {
     "data": {
      "text/plain": [
       "'1.4.3'"
      ]
     },
     "execution_count": 1,
     "metadata": {},
     "output_type": "execute_result"
    }
   ],
   "source": [
    "import numpy as np\n",
    "import pandas as pd\n",
    "pd.__version__"
   ]
  },
  {
   "cell_type": "code",
   "execution_count": 2,
   "id": "f289efa1-850c-4105-8b64-55a2a401ea87",
   "metadata": {},
   "outputs": [
    {
     "data": {
      "text/plain": [
       "0    0.25\n",
       "1    0.50\n",
       "2    0.75\n",
       "3    1.00\n",
       "dtype: float64"
      ]
     },
     "execution_count": 2,
     "metadata": {},
     "output_type": "execute_result"
    }
   ],
   "source": [
    "# Series 객채 (Object) = 인덱싱된 데이터의 1차원 배열\n",
    "data = pd.Series([0.25, 0.5, 0.75, 1.0])\n",
    "data"
   ]
  },
  {
   "cell_type": "code",
   "execution_count": 3,
   "id": "6cc4fa48-ec8d-4488-aba8-e9e003e2ba94",
   "metadata": {},
   "outputs": [
    {
     "data": {
      "text/plain": [
       "array([0.25, 0.5 , 0.75, 1.  ])"
      ]
     },
     "execution_count": 3,
     "metadata": {},
     "output_type": "execute_result"
    }
   ],
   "source": [
    "# 속성 - values\n",
    "data.values"
   ]
  },
  {
   "cell_type": "code",
   "execution_count": 4,
   "id": "47c9b6d1-51b0-4ee5-8e28-1279913c466a",
   "metadata": {},
   "outputs": [
    {
     "data": {
      "text/plain": [
       "RangeIndex(start=0, stop=4, step=1)"
      ]
     },
     "execution_count": 4,
     "metadata": {},
     "output_type": "execute_result"
    }
   ],
   "source": [
    "# 속성 - index\n",
    "data.index"
   ]
  },
  {
   "cell_type": "code",
   "execution_count": 5,
   "id": "138bf60c-050d-4717-afde-280f17b45769",
   "metadata": {},
   "outputs": [
    {
     "data": {
      "text/plain": [
       "0.5"
      ]
     },
     "execution_count": 5,
     "metadata": {},
     "output_type": "execute_result"
    }
   ],
   "source": [
    "data[1]"
   ]
  },
  {
   "cell_type": "code",
   "execution_count": 6,
   "id": "0f95991c-194b-482a-9184-fa2dada8c8be",
   "metadata": {},
   "outputs": [
    {
     "data": {
      "text/plain": [
       "1    0.50\n",
       "2    0.75\n",
       "dtype: float64"
      ]
     },
     "execution_count": 6,
     "metadata": {},
     "output_type": "execute_result"
    }
   ],
   "source": [
    "data[1:3]"
   ]
  },
  {
   "cell_type": "code",
   "execution_count": 7,
   "id": "33c5c872-e3c4-497e-8c43-a2476520de4f",
   "metadata": {},
   "outputs": [
    {
     "name": "stdout",
     "output_type": "stream",
     "text": [
      "a    0.25\n",
      "b    0.50\n",
      "c    0.75\n",
      "d    1.00\n",
      "dtype: float64\n",
      "0.5\n"
     ]
    }
   ],
   "source": [
    "# Series: 일반화된 NumPy 배열\n",
    "# Series: 명시적으로 정의된 인덱스\n",
    "data = pd.Series([0.25, 0.5, 0.75, 1.0],\n",
    "                 index = [\"a\",\"b\",\"c\",\"d\"])\n",
    "print(data)\n",
    "print(data[\"b\"])"
   ]
  },
  {
   "cell_type": "code",
   "execution_count": 8,
   "id": "fafb5f99-c76c-4cc6-95e8-00da09eabd6c",
   "metadata": {},
   "outputs": [
    {
     "name": "stdout",
     "output_type": "stream",
     "text": [
      "2    0.25\n",
      "5    0.50\n",
      "3    0.75\n",
      "7    1.00\n",
      "dtype: float64\n",
      "0.5\n"
     ]
    }
   ],
   "source": [
    "data = pd.Series([0.25, 0.5, 0.75, 1.0],\n",
    "                 index = [2,5,3,7])\n",
    "print(data)\n",
    "print(data[5])"
   ]
  },
  {
   "cell_type": "code",
   "execution_count": 9,
   "id": "a204da6e-58d8-42c5-9fe2-744b861400dd",
   "metadata": {},
   "outputs": [
    {
     "name": "stdout",
     "output_type": "stream",
     "text": [
      "California    38332521\n",
      "Texas         26448193\n",
      "New York      19651127\n",
      "Florida       19552860\n",
      "Illinois      12882135\n",
      "dtype: int64 \n",
      "\n",
      "California    38332521\n",
      "Florida       19552860\n",
      "Illinois      12882135\n",
      "New York      19651127\n",
      "Texas         26448193\n",
      "dtype: int64 \n",
      "\n",
      "38332521 \n",
      "\n",
      "California    38332521\n",
      "Florida       19552860\n",
      "Illinois      12882135\n",
      "dtype: int64\n"
     ]
    }
   ],
   "source": [
    "# Series: 특수한 딕셔너리\n",
    "# Series: 타입 지정가능\n",
    "population_dict = {\"California\": 38332521,\n",
    "                   \"Texas\": 26448193,\n",
    "                   \"New York\": 19651127,\n",
    "                   \"Florida\": 19552860,\n",
    "                   \"Illinois\": 12882135,}\n",
    "\n",
    "population = pd.Series(population_dict)\n",
    "\n",
    "# Series: 인덱스 = dictionary's key\n",
    "print(population, \"\\n\")\n",
    "\n",
    "population = population.sort_index()\n",
    "print(population, \"\\n\")\n",
    "\n",
    "print(population[\"California\"], \"\\n\")\n",
    "print(population[\"California\":\"Illinois\"])"
   ]
  },
  {
   "cell_type": "code",
   "execution_count": 10,
   "id": "a21bd8ff-4eda-4fb1-a39e-dfef92da2f1e",
   "metadata": {},
   "outputs": [
    {
     "name": "stdout",
     "output_type": "stream",
     "text": [
      "0    2\n",
      "1    4\n",
      "2    6\n",
      "dtype: int64 \n",
      "\n",
      "100    5\n",
      "200    5\n",
      "300    5\n",
      "dtype: int64 \n",
      "\n",
      "2    a\n",
      "1    b\n",
      "3    c\n",
      "dtype: object \n",
      "\n",
      "3    c\n",
      "2    a\n",
      "dtype: object \n",
      "\n"
     ]
    }
   ],
   "source": [
    "# Series 객체 구성\n",
    "\n",
    "# 1) pd.Series(data, index=index)\n",
    "print(pd.Series([2,4,6]), \"\\n\")\n",
    "print(pd.Series(5, index=[100,200,300]), \"\\n\")\n",
    "print(pd.Series({2:\"a\", 1:\"b\", 3:\"c\"}), \"\\n\")\n",
    "print(pd.Series({2:\"a\", 1:\"b\", 3:\"c\"}, index = [3,2]), \"\\n\")"
   ]
  },
  {
   "cell_type": "code",
   "execution_count": null,
   "id": "cd439b4a-8a5b-43ea-bc97-ead03b3097bd",
   "metadata": {},
   "outputs": [],
   "source": []
  }
 ],
 "metadata": {
  "kernelspec": {
   "display_name": "Python 3 (ipykernel)",
   "language": "python",
   "name": "python3"
  },
  "language_info": {
   "codemirror_mode": {
    "name": "ipython",
    "version": 3
   },
   "file_extension": ".py",
   "mimetype": "text/x-python",
   "name": "python",
   "nbconvert_exporter": "python",
   "pygments_lexer": "ipython3",
   "version": "3.10.5"
  }
 },
 "nbformat": 4,
 "nbformat_minor": 5
}
