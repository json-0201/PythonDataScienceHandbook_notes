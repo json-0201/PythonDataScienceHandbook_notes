{
 "cells": [
  {
   "cell_type": "code",
   "execution_count": 1,
   "id": "a1cba9c7-43f4-41b9-b988-6565a6381c86",
   "metadata": {},
   "outputs": [],
   "source": [
    "import numpy as np, pandas as pd"
   ]
  },
  {
   "cell_type": "code",
   "execution_count": 2,
   "id": "7b2751c9-624a-47bb-92a8-135a2acd8993",
   "metadata": {},
   "outputs": [
    {
     "data": {
      "text/plain": [
       "array([ 4,  6, 10, 14, 22, 26])"
      ]
     },
     "execution_count": 2,
     "metadata": {},
     "output_type": "execute_result"
    }
   ],
   "source": [
    "# 벡터화 연산\n",
    "x = np.array([2, 3, 5, 7, 11, 13])\n",
    "x * 2"
   ]
  },
  {
   "cell_type": "code",
   "execution_count": 3,
   "id": "f775baf3-43d3-4ae0-8d50-e70557e6eb96",
   "metadata": {},
   "outputs": [
    {
     "data": {
      "text/plain": [
       "['Peter', 'Paul', 'Mary', 'Guido']"
      ]
     },
     "execution_count": 3,
     "metadata": {},
     "output_type": "execute_result"
    }
   ],
   "source": [
    "# 문자열 배열 -> 루프 구문 사용\n",
    "data = [\"peter\", \"Paul\", \"MARY\", \"gUIDO\"]\n",
    "[s.capitalize() for s in data]\n",
    "\n",
    "# 누락된 값 -> 에러\n",
    "# data = [\"peter\", \"Paul\", None, \"MARY\", \"gUIDO\"]\n",
    "# [s.capitalize() for s in data]"
   ]
  },
  {
   "cell_type": "code",
   "execution_count": 4,
   "id": "62019f97-95f2-41c2-83ba-acc3cbfb88bf",
   "metadata": {},
   "outputs": [
    {
     "name": "stdout",
     "output_type": "stream",
     "text": [
      "0    peter\n",
      "1     Paul\n",
      "2     None\n",
      "3     MARY\n",
      "4    gUIDO\n",
      "dtype: object \n",
      "\n"
     ]
    },
    {
     "data": {
      "text/plain": [
       "0    Peter\n",
       "1     Paul\n",
       "2     None\n",
       "3     Mary\n",
       "4    Guido\n",
       "dtype: object"
      ]
     },
     "execution_count": 4,
     "metadata": {},
     "output_type": "execute_result"
    }
   ],
   "source": [
    "# Series + Index 객체의 str 속성\n",
    "data = [\"peter\", \"Paul\", None, \"MARY\", \"gUIDO\"]\n",
    "names = pd.Series(data)\n",
    "print(names, \"\\n\")\n",
    "\n",
    "names.str.capitalize()"
   ]
  },
  {
   "cell_type": "code",
   "execution_count": 5,
   "id": "c2043d7f-40be-4c79-97c8-85fb1823b9de",
   "metadata": {},
   "outputs": [
    {
     "name": "stdout",
     "output_type": "stream",
     "text": [
      "0    graham chapman\n",
      "1       john cleese\n",
      "2     terry gilliam\n",
      "3         eric idle\n",
      "4       terry jones\n",
      "5     michael palin\n",
      "dtype: object\n",
      "0    14\n",
      "1    11\n",
      "2    13\n",
      "3     9\n",
      "4    11\n",
      "5    13\n",
      "dtype: int64\n",
      "0    False\n",
      "1    False\n",
      "2     True\n",
      "3    False\n",
      "4     True\n",
      "5    False\n",
      "dtype: bool\n",
      "0    [Graham, Chapman]\n",
      "1       [John, Cleese]\n",
      "2     [Terry, Gilliam]\n",
      "3         [Eric, Idle]\n",
      "4       [Terry, Jones]\n",
      "5     [Michael, Palin]\n",
      "dtype: object\n"
     ]
    }
   ],
   "source": [
    "# Pandas string methods\n",
    "monte = pd.Series([\"Graham Chapman\", \"John Cleese\", \"Terry Gilliam\",\n",
    "                   \"Eric Idle\", \"Terry Jones\", \"Michael Palin\"])\n",
    "\n",
    "print(monte.str.lower()); print(monte.str.len()); print(monte.str.startswith(\"T\")); print(monte.str.split());"
   ]
  },
  {
   "cell_type": "code",
   "execution_count": 6,
   "id": "2062bdd9-1ceb-41d5-907e-d12ee39ed9f2",
   "metadata": {},
   "outputs": [
    {
     "name": "stdout",
     "output_type": "stream",
     "text": [
      "         0\n",
      "0   Graham\n",
      "1     John\n",
      "2    Terry\n",
      "3     Eric\n",
      "4    Terry\n",
      "5  Michael \n",
      "\n",
      "0    [Graham Chapman]\n",
      "1                  []\n",
      "2     [Terry Gilliam]\n",
      "3                  []\n",
      "4       [Terry Jones]\n",
      "5     [Michael Palin]\n",
      "dtype: object \n",
      "\n",
      "0    Gra\n",
      "1    Joh\n",
      "2    Ter\n",
      "3    Eri\n",
      "4    Ter\n",
      "5    Mic\n",
      "dtype: object \n",
      "\n",
      "0    Chapman\n",
      "1     Cleese\n",
      "2    Gilliam\n",
      "3       Idle\n",
      "4      Jones\n",
      "5      Palin\n",
      "dtype: object \n",
      "\n"
     ]
    }
   ],
   "source": [
    "# 정규 표현식을 활용하는 메서드\n",
    "# match(), extract(), findall(), replace(), contains(), count(), split(), rsplit()\n",
    "print(monte.str.extract(\"([A-Za-z]+)\"), \"\\n\")\n",
    "print(monte.str.findall(r'^[^AEIOU].*[^aeiou]$'), \"\\n\")\n",
    "\n",
    "# 기타 메서드\n",
    "print(monte.str[0:3], \"\\n\")\n",
    "print(monte.str.split().str.get(-1), \"\\n\")"
   ]
  },
  {
   "cell_type": "code",
   "execution_count": 12,
   "id": "63f7db15-6681-4ccc-942d-b6e1e108a4ab",
   "metadata": {},
   "outputs": [
    {
     "name": "stdout",
     "output_type": "stream",
     "text": [
      "    info            name\n",
      "0  B|C|D  Graham Chapman\n",
      "1    B|D     John Cleese\n",
      "2    A|C   Terry Gilliam\n",
      "3    B|D       Eric Idle\n",
      "4    B|C     Terry Jones\n",
      "5  B|C|D   Michael Palin \n",
      "\n",
      "   A  B  C  D\n",
      "0  0  1  1  1\n",
      "1  0  1  0  1\n",
      "2  1  0  1  0\n",
      "3  0  1  0  1\n",
      "4  0  1  1  0\n",
      "5  0  1  1  1 \n",
      "\n"
     ]
    }
   ],
   "source": [
    "# get_dummies() method\n",
    "full_monte = pd.DataFrame({\"info\": [\"B|C|D\", \"B|D\", \"A|C\",\n",
    "                                    \"B|D\", \"B|C\", \"B|C|D\"],\n",
    "                          \"name\": monte})\n",
    "print(full_monte, \"\\n\")\n",
    "print(full_monte[\"info\"].str.get_dummies(\"|\"), \"\\n\")"
   ]
  }
 ],
 "metadata": {
  "kernelspec": {
   "display_name": "Python 3 (ipykernel)",
   "language": "python",
   "name": "python3"
  },
  "language_info": {
   "codemirror_mode": {
    "name": "ipython",
    "version": 3
   },
   "file_extension": ".py",
   "mimetype": "text/x-python",
   "name": "python",
   "nbconvert_exporter": "python",
   "pygments_lexer": "ipython3",
   "version": "3.10.5"
  }
 },
 "nbformat": 4,
 "nbformat_minor": 5
}
