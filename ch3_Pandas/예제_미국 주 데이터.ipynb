{
 "cells": [
  {
   "cell_type": "code",
   "execution_count": 1,
   "id": "bf91e8fc-dd81-4395-b27b-bdf431bf6171",
   "metadata": {},
   "outputs": [],
   "source": [
    "import numpy as np, pandas as pd"
   ]
  },
  {
   "cell_type": "code",
   "execution_count": 2,
   "id": "f403bfbe-3778-40b2-98eb-2cb782330890",
   "metadata": {},
   "outputs": [
    {
     "name": "stdout",
     "output_type": "stream",
     "text": [
      "  state/region     ages  year  population\n",
      "0           AL  under18  2012   1117489.0\n",
      "1           AL    total  2012   4817528.0\n",
      "2           AL  under18  2010   1130966.0\n",
      "3           AL    total  2010   4785570.0\n",
      "4           AL  under18  2011   1125763.0\n",
      "        state  area (sq. mi)\n",
      "0     Alabama          52423\n",
      "1      Alaska         656425\n",
      "2     Arizona         114006\n",
      "3    Arkansas          53182\n",
      "4  California         163707\n",
      "        state abbreviation\n",
      "0     Alabama           AL\n",
      "1      Alaska           AK\n",
      "2     Arizona           AZ\n",
      "3    Arkansas           AR\n",
      "4  California           CA\n"
     ]
    }
   ],
   "source": [
    "pop = pd.read_csv(\"state-population.csv\")\n",
    "areas = pd.read_csv(\"state-areas.csv\")\n",
    "abbrevs = pd.read_csv(\"state-abbrevs.csv\")\n",
    "\n",
    "print(pop.head()); print(areas.head()); print(abbrevs.head()); # .head() -> first 5 rows"
   ]
  },
  {
   "cell_type": "code",
   "execution_count": 3,
   "id": "e0a970cd-5d31-4c1d-9027-0941df7dc8d6",
   "metadata": {},
   "outputs": [
    {
     "name": "stdout",
     "output_type": "stream",
     "text": [
      "  state/region     ages  year  population    state\n",
      "0           AL  under18  2012   1117489.0  Alabama\n",
      "1           AL    total  2012   4817528.0  Alabama\n",
      "2           AL  under18  2010   1130966.0  Alabama\n",
      "3           AL    total  2010   4785570.0  Alabama\n",
      "4           AL  under18  2011   1125763.0  Alabama \n",
      "\n",
      "state/region    False\n",
      "ages            False\n",
      "year            False\n",
      "population       True\n",
      "state            True\n",
      "dtype: bool \n",
      "\n",
      "     state/region     ages  year  population state\n",
      "2448           PR  under18  1990         NaN   NaN\n",
      "2449           PR    total  1990         NaN   NaN\n",
      "2450           PR    total  1991         NaN   NaN\n",
      "2451           PR  under18  1991         NaN   NaN\n",
      "2452           PR    total  1993         NaN   NaN \n",
      "\n",
      "['PR' 'USA'] \n",
      "\n",
      "     state/region     ages  year  population        state\n",
      "2448           PR  under18  1990         NaN  Puerto Rico\n",
      "2449           PR    total  1990         NaN  Puerto Rico\n",
      "2450           PR    total  1991         NaN  Puerto Rico\n",
      "2451           PR  under18  1991         NaN  Puerto Rico\n",
      "2452           PR    total  1993         NaN  Puerto Rico \n",
      "\n",
      "     state/region     ages  year   population          state\n",
      "2496          USA  under18  1990   64218512.0  United States\n",
      "2497          USA    total  1990  249622814.0  United States\n",
      "2498          USA    total  1991  252980942.0  United States\n",
      "2499          USA  under18  1991   65313018.0  United States\n",
      "2500          USA  under18  1992   66509177.0  United States \n",
      "\n",
      "  state/region     ages  year  population    state\n",
      "0           AL  under18  2012   1117489.0  Alabama\n",
      "1           AL    total  2012   4817528.0  Alabama\n",
      "2           AL  under18  2010   1130966.0  Alabama\n",
      "3           AL    total  2010   4785570.0  Alabama\n",
      "4           AL  under18  2011   1125763.0  Alabama\n"
     ]
    }
   ],
   "source": [
    "# merge(state/region and abbreviation), how=\"outer\"\n",
    "merged = pd.merge(pop, abbrevs, how=\"outer\",\n",
    "                  left_on=\"state/region\", right_on=\"abbreviation\")\n",
    "\n",
    "merged = merged.drop(\"abbreviation\", axis=1) # 중복 정보 삭제\n",
    "print(merged.head(), \"\\n\")\n",
    "\n",
    "# 널 값 가진 행 확인\n",
    "print(merged.isnull().any(), \"\\n\")\n",
    "\n",
    "# 널 값 가진 행(population, state) 출력\n",
    "print(merged[merged[\"population\"].isnull()].head(), \"\\n\") # Puerto Rico\n",
    "print(merged.loc[merged[\"state\"].isnull(), \"state/region\"].unique(), \"\\n\") # abbrevs that were not mapped\n",
    "\n",
    "# null 항목 채워넣기\n",
    "merged.loc[merged[\"state/region\"]==\"PR\", \"state\"] = \"Puerto Rico\"\n",
    "merged.loc[merged[\"state/region\"]==\"USA\", \"state\"] = \"United States\"\n",
    "\n",
    "print(merged.loc[merged[\"state/region\"]==\"PR\"].head(), \"\\n\")\n",
    "print(merged.loc[merged[\"state/region\"]==\"USA\"].head(), \"\\n\")\n",
    "\n",
    "print(merged.head())"
   ]
  },
  {
   "cell_type": "code",
   "execution_count": 18,
   "id": "1b050b46-0e41-4001-8885-e09d13910bc3",
   "metadata": {},
   "outputs": [
    {
     "name": "stdout",
     "output_type": "stream",
     "text": [
      "  state/region     ages  year  population    state  area (sq. mi)\n",
      "0           AL  under18  2012   1117489.0  Alabama        52423.0\n",
      "1           AL    total  2012   4817528.0  Alabama        52423.0\n",
      "2           AL  under18  2010   1130966.0  Alabama        52423.0\n",
      "3           AL    total  2010   4785570.0  Alabama        52423.0\n",
      "4           AL  under18  2011   1125763.0  Alabama        52423.0 \n",
      "\n",
      "state/region     False\n",
      "ages             False\n",
      "year             False\n",
      "population        True\n",
      "state            False\n",
      "area (sq. mi)     True\n",
      "dtype: bool \n",
      "\n",
      "['United States'] \n",
      "\n"
     ]
    }
   ],
   "source": [
    "# areas 데이터 병합\n",
    "final = pd.merge(merged, areas, on=\"state\", how=\"left\") # how=\"left\" -> match \"merged\" DataFrame\n",
    "print(final.head(), \"\\n\")\n",
    "\n",
    "print(final.isnull().any(), \"\\n\") # area 열 널 값 존재\n",
    "\n",
    "# 1-D, Masking Series to find out state w/ null area values\n",
    "print(final[\"state\"][final[\"area (sq. mi)\"].isnull()].unique(), \"\\n\") # United States\n",
    "\n",
    "# United States area not relevant -> 널 값 제거\n",
    "final.dropna(inplace=True) # 현재 DataFrame dropna 적용"
   ]
  },
  {
   "cell_type": "code",
   "execution_count": 25,
   "id": "89c4e2be-aa11-497c-95d8-b28cc76cf8c7",
   "metadata": {},
   "outputs": [
    {
     "name": "stdout",
     "output_type": "stream",
     "text": [
      "    state/region   ages  year  population       state  area (sq. mi)\n",
      "3             AL  total  2010   4785570.0     Alabama        52423.0\n",
      "91            AK  total  2010    713868.0      Alaska       656425.0\n",
      "101           AZ  total  2010   6408790.0     Arizona       114006.0\n",
      "189           AR  total  2010   2922280.0    Arkansas        53182.0\n",
      "197           CA  total  2010  37333601.0  California       163707.0 \n",
      "\n",
      "state\n",
      "District of Columbia    8898.897059\n",
      "Puerto Rico             1058.665149\n",
      "New Jersey              1009.253268\n",
      "Rhode Island             681.339159\n",
      "Connecticut              645.600649\n",
      "dtype: float64 \n",
      "\n",
      "state\n",
      "South Dakota    10.583512\n",
      "North Dakota     9.537565\n",
      "Montana          6.736171\n",
      "Wyoming          5.768079\n",
      "Alaska           1.087509\n",
      "dtype: float64 \n",
      "\n"
     ]
    }
   ],
   "source": [
    "# 2010년과 전체 인구에 해당하는 데이터 부분 선택\n",
    "# query() from numexpr\n",
    "data2010 = final.query(\"year==2010 & ages==\\\"total\\\"\")\n",
    "print(data2010.head(), \"\\n\")\n",
    "\n",
    "# 인덱스 재배열, 인구 밀도 순서대로 표시\n",
    "data2010.set_index(\"state\", inplace=True)\n",
    "density = data2010[\"population\"] / data2010[\"area (sq. mi)\"]\n",
    "density.sort_values(ascending=False, inplace=True)\n",
    "\n",
    "print(density.head(), \"\\n\") # top5 높은 인구밀도\n",
    "print(density.tail(), \"\\n\") # top5 낮은 인구밀도"
   ]
  },
  {
   "cell_type": "code",
   "execution_count": null,
   "id": "a01e2b2c-f631-4a14-9558-3e1136b4663f",
   "metadata": {},
   "outputs": [],
   "source": []
  }
 ],
 "metadata": {
  "kernelspec": {
   "display_name": "Python 3 (ipykernel)",
   "language": "python",
   "name": "python3"
  },
  "language_info": {
   "codemirror_mode": {
    "name": "ipython",
    "version": 3
   },
   "file_extension": ".py",
   "mimetype": "text/x-python",
   "name": "python",
   "nbconvert_exporter": "python",
   "pygments_lexer": "ipython3",
   "version": "3.10.5"
  }
 },
 "nbformat": 4,
 "nbformat_minor": 5
}
