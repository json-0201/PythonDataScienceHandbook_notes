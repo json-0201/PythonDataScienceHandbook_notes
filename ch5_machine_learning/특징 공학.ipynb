{
 "cells": [
  {
   "cell_type": "code",
   "execution_count": 1,
   "id": "70e7be35-b4b4-49db-9d9b-e2d90dec17fd",
   "metadata": {},
   "outputs": [],
   "source": [
    "# 특징 공학 (feature engineering)\n",
    "# => 문제에 대해 가지고 있는 정보를 모두 취해 특징 행렬을 구축하는데 사용할 수 있는 숫자로 변환"
   ]
  },
  {
   "cell_type": "code",
   "execution_count": 2,
   "id": "bf456d3b-f854-47bb-b6a6-4331c6913190",
   "metadata": {},
   "outputs": [],
   "source": [
    "# 범주 데이터(categorical data)를 표현하는 특징\n",
    "# 텍스트를 표현하는 특징\n",
    "# 이미지를 표현하는 특징\n",
    "# 모델 복잡도를 증가시키기 위한 유도 특징(derived feature)\n",
    "# 누락 데이터 대체\n",
    "# 임의의 데이터를 벡터로 전환 => 벡터화(vectoriaztion)"
   ]
  },
  {
   "cell_type": "code",
   "execution_count": 3,
   "id": "245a0b18-db97-4327-b22f-422d263c2fc3",
   "metadata": {},
   "outputs": [],
   "source": [
    "# 범주 특징\n",
    "\"비수치 데이터의 일반적인 유형 중 하나는 범주 데이터(categorical data)\"\n",
    "\"예를 들어 주택 가격 데이터\"\n",
    "\n",
    "data = [\n",
    "    {\"price\": 85000, \"rooms\": 4, \"neighborhood\": \"Queen Anne\"},\n",
    "    {\"price\": 70000, \"rooms\": 3, \"neighborhood\": \"Fremont\"},\n",
    "    {\"price\": 65000, \"rooms\": 3, \"neighborhood\": \"Wallingford\"},\n",
    "    {\"price\": 60000, \"rooms\": 2, \"neighborhood\": \"Fremont\"},\n",
    "    ]\n",
    "\n",
    "# 간단한 수치 매핑으로 인코딩\n",
    "{\"Queen Anne\": 1, \"Fremont\": 2, \"Wallingford\": 3}; # SciKit-Learn에 유용하지 않다\n",
    "# 모델이 수치 특징은 대수적인양을 반영한다고 가정하기떄문\n",
    "# Queen Anne < Fremont < Wallingford... 말도 안 되는 관계를 의미"
   ]
  },
  {
   "cell_type": "code",
   "execution_count": 4,
   "id": "61e54e35-9ecf-4fce-aa5b-46312b856db6",
   "metadata": {},
   "outputs": [
    {
     "data": {
      "text/plain": [
       "array([[    0,     1,     0, 85000,     4],\n",
       "       [    1,     0,     0, 70000,     3],\n",
       "       [    0,     0,     1, 65000,     3],\n",
       "       [    1,     0,     0, 60000,     2]])"
      ]
     },
     "execution_count": 4,
     "metadata": {},
     "output_type": "execute_result"
    }
   ],
   "source": [
    "# 해당 범주의 유무를 각각 1이나 0으로 나타내는 추가 열을 생성\n",
    "# 원-핫 인코딩(one-hot encoding)\n",
    "# 데이터가 딕셔너리의 리스트 형태라면 DictVectorizer 이용\n",
    "from sklearn.feature_extraction import DictVectorizer\n",
    "vec = DictVectorizer(sparse=False, dtype=int)\n",
    "vec.fit_transform(data)"
   ]
  },
  {
   "cell_type": "code",
   "execution_count": 5,
   "id": "9d3c071d-694b-43ce-9ec7-ce28a028f1f4",
   "metadata": {},
   "outputs": [
    {
     "data": {
      "text/plain": [
       "array(['neighborhood=Fremont', 'neighborhood=Queen Anne',\n",
       "       'neighborhood=Wallingford', 'price', 'rooms'], dtype=object)"
      ]
     },
     "execution_count": 5,
     "metadata": {},
     "output_type": "execute_result"
    }
   ],
   "source": [
    "vec.get_feature_names_out()\n",
    "# 해당 범주에 들어갈 수 있는 값이 많은 경우 데이터세트의 크기가 엄청나게 커질 수 있다"
   ]
  },
  {
   "cell_type": "code",
   "execution_count": 6,
   "id": "c2c28746-a131-4b80-97fd-cb97524556c1",
   "metadata": {},
   "outputs": [
    {
     "data": {
      "text/plain": [
       "<4x5 sparse matrix of type '<class 'numpy.int32'>'\n",
       "\twith 12 stored elements in Compressed Sparse Row format>"
      ]
     },
     "execution_count": 6,
     "metadata": {},
     "output_type": "execute_result"
    }
   ],
   "source": [
    "vec = DictVectorizer(sparse=True, dtype=int)\n",
    "vec.fit_transform(data)"
   ]
  },
  {
   "cell_type": "code",
   "execution_count": 7,
   "id": "6d349b93-e67c-4d93-801b-7951107fb733",
   "metadata": {},
   "outputs": [
    {
     "data": {
      "text/plain": [
       "<3x5 sparse matrix of type '<class 'numpy.int64'>'\n",
       "\twith 7 stored elements in Compressed Sparse Row format>"
      ]
     },
     "execution_count": 7,
     "metadata": {},
     "output_type": "execute_result"
    }
   ],
   "source": [
    "# 텍스트 특징\n",
    "# ex. 소셜미디어 데이터 마이닝 기법 (텍스트를 숫자로 인코딩) (e.g. word count...)\n",
    "sample = [\"problem of evil\",\n",
    "          \"evil queen\",\n",
    "          \"horizon problem\",]\n",
    "\n",
    "from sklearn.feature_extraction.text import CountVectorizer\n",
    "vec = CountVectorizer()\n",
    "X = vec.fit_transform(sample)\n",
    "X"
   ]
  },
  {
   "cell_type": "code",
   "execution_count": 8,
   "id": "fe37e5cc-27f0-429e-8316-727a5dac4712",
   "metadata": {},
   "outputs": [
    {
     "data": {
      "text/html": [
       "<div>\n",
       "<style scoped>\n",
       "    .dataframe tbody tr th:only-of-type {\n",
       "        vertical-align: middle;\n",
       "    }\n",
       "\n",
       "    .dataframe tbody tr th {\n",
       "        vertical-align: top;\n",
       "    }\n",
       "\n",
       "    .dataframe thead th {\n",
       "        text-align: right;\n",
       "    }\n",
       "</style>\n",
       "<table border=\"1\" class=\"dataframe\">\n",
       "  <thead>\n",
       "    <tr style=\"text-align: right;\">\n",
       "      <th></th>\n",
       "      <th>evil</th>\n",
       "      <th>horizon</th>\n",
       "      <th>of</th>\n",
       "      <th>problem</th>\n",
       "      <th>queen</th>\n",
       "    </tr>\n",
       "  </thead>\n",
       "  <tbody>\n",
       "    <tr>\n",
       "      <th>0</th>\n",
       "      <td>1</td>\n",
       "      <td>0</td>\n",
       "      <td>1</td>\n",
       "      <td>1</td>\n",
       "      <td>0</td>\n",
       "    </tr>\n",
       "    <tr>\n",
       "      <th>1</th>\n",
       "      <td>1</td>\n",
       "      <td>0</td>\n",
       "      <td>0</td>\n",
       "      <td>0</td>\n",
       "      <td>1</td>\n",
       "    </tr>\n",
       "    <tr>\n",
       "      <th>2</th>\n",
       "      <td>0</td>\n",
       "      <td>1</td>\n",
       "      <td>0</td>\n",
       "      <td>1</td>\n",
       "      <td>0</td>\n",
       "    </tr>\n",
       "  </tbody>\n",
       "</table>\n",
       "</div>"
      ],
      "text/plain": [
       "   evil  horizon  of  problem  queen\n",
       "0     1        0   1        1      0\n",
       "1     1        0   0        0      1\n",
       "2     0        1   0        1      0"
      ]
     },
     "execution_count": 8,
     "metadata": {},
     "output_type": "execute_result"
    }
   ],
   "source": [
    "import pandas as pd\n",
    "pd.DataFrame(X.toarray(), columns=vec.get_feature_names_out())"
   ]
  },
  {
   "cell_type": "code",
   "execution_count": 9,
   "id": "1ed3e0f8-1a08-482d-bbd6-57fdaf77e595",
   "metadata": {},
   "outputs": [
    {
     "data": {
      "text/html": [
       "<div>\n",
       "<style scoped>\n",
       "    .dataframe tbody tr th:only-of-type {\n",
       "        vertical-align: middle;\n",
       "    }\n",
       "\n",
       "    .dataframe tbody tr th {\n",
       "        vertical-align: top;\n",
       "    }\n",
       "\n",
       "    .dataframe thead th {\n",
       "        text-align: right;\n",
       "    }\n",
       "</style>\n",
       "<table border=\"1\" class=\"dataframe\">\n",
       "  <thead>\n",
       "    <tr style=\"text-align: right;\">\n",
       "      <th></th>\n",
       "      <th>evil</th>\n",
       "      <th>horizon</th>\n",
       "      <th>of</th>\n",
       "      <th>problem</th>\n",
       "      <th>queen</th>\n",
       "    </tr>\n",
       "  </thead>\n",
       "  <tbody>\n",
       "    <tr>\n",
       "      <th>0</th>\n",
       "      <td>0.517856</td>\n",
       "      <td>0.000000</td>\n",
       "      <td>0.680919</td>\n",
       "      <td>0.517856</td>\n",
       "      <td>0.000000</td>\n",
       "    </tr>\n",
       "    <tr>\n",
       "      <th>1</th>\n",
       "      <td>0.605349</td>\n",
       "      <td>0.000000</td>\n",
       "      <td>0.000000</td>\n",
       "      <td>0.000000</td>\n",
       "      <td>0.795961</td>\n",
       "    </tr>\n",
       "    <tr>\n",
       "      <th>2</th>\n",
       "      <td>0.000000</td>\n",
       "      <td>0.795961</td>\n",
       "      <td>0.000000</td>\n",
       "      <td>0.605349</td>\n",
       "      <td>0.000000</td>\n",
       "    </tr>\n",
       "  </tbody>\n",
       "</table>\n",
       "</div>"
      ],
      "text/plain": [
       "       evil   horizon        of   problem     queen\n",
       "0  0.517856  0.000000  0.680919  0.517856  0.000000\n",
       "1  0.605349  0.000000  0.000000  0.000000  0.795961\n",
       "2  0.000000  0.795961  0.000000  0.605349  0.000000"
      ]
     },
     "execution_count": 9,
     "metadata": {},
     "output_type": "execute_result"
    }
   ],
   "source": [
    "# 단어 수에 가중치를 부여하는 TF-IDF (term frequency-inverse document frequency)\n",
    "# 단어 빈도 - 역문서 빈도\n",
    "from sklearn.feature_extraction.text import TfidfVectorizer\n",
    "vec = TfidfVectorizer()\n",
    "X = vec.fit_transform(sample)\n",
    "pd.DataFrame(X.toarray(), columns=vec.get_feature_names_out())"
   ]
  },
  {
   "cell_type": "code",
   "execution_count": 10,
   "id": "05d996b5-19b5-4437-92fc-17608e195c1e",
   "metadata": {},
   "outputs": [
    {
     "data": {
      "image/png": "[encoded data removed]",
      "text/plain": [
       "<Figure size 432x288 with 1 Axes>"
      ]
     },
     "metadata": {
      "needs_background": "light"
     },
     "output_type": "display_data"
    }
   ],
   "source": [
    "# 이미지 특징\n",
    "\n",
    "# 유도 특징\n",
    "%matplotlib inline\n",
    "import numpy as np, matplotlib.pyplot as plt\n",
    "\n",
    "x = np.array([1,2,3,4,5])\n",
    "y = np.array([4,2,1,3,7])\n",
    "plt.scatter(x, y);"
   ]
  },
  {
   "cell_type": "code",
   "execution_count": 11,
   "id": "631ad715-9490-4093-b4ee-77b6785ed08b",
   "metadata": {},
   "outputs": [
    {
     "data": {
      "image/png": "[encoded data removed]",
      "text/plain": [
       "<Figure size 432x288 with 1 Axes>"
      ]
     },
     "metadata": {
      "needs_background": "light"
     },
     "output_type": "display_data"
    }
   ],
   "source": [
    "# LinearRegression\n",
    "from sklearn.linear_model import LinearRegression\n",
    "model = LinearRegression()\n",
    "\n",
    "X = x[:, np.newaxis]\n",
    "model.fit(X, y)\n",
    "y_fit = model.predict(X)\n",
    "plt.scatter(x, y)\n",
    "plt.plot(x, y_fit, color=\"r\");"
   ]
  },
  {
   "cell_type": "code",
   "execution_count": 12,
   "id": "6a2c4577-2655-4aa6-a120-4831e2bc30f4",
   "metadata": {},
   "outputs": [
    {
     "data": {
      "text/plain": [
       "array([[  1.,   1.,   1.],\n",
       "       [  2.,   4.,   8.],\n",
       "       [  3.,   9.,  27.],\n",
       "       [  4.,  16.,  64.],\n",
       "       [  5.,  25., 125.]])"
      ]
     },
     "execution_count": 12,
     "metadata": {},
     "output_type": "execute_result"
    }
   ],
   "source": [
    "# Add polynomial features (3-degree)\n",
    "from sklearn.preprocessing import PolynomialFeatures\n",
    "poly = PolynomialFeatures(degree=3, include_bias=False)\n",
    "X2 = poly.fit_transform(X)\n",
    "X2"
   ]
  },
  {
   "cell_type": "code",
   "execution_count": 13,
   "id": "03e5fffa-6ca3-47d0-b37b-2f1c269c583c",
   "metadata": {},
   "outputs": [
    {
     "data": {
      "image/png": "[encoded data removed]",
      "text/plain": [
       "<Figure size 432x288 with 1 Axes>"
      ]
     },
     "metadata": {
      "needs_background": "light"
     },
     "output_type": "display_data"
    }
   ],
   "source": [
    "# linear regression on polynomial features\n",
    "model = LinearRegression().fit(X2, y)\n",
    "y_fit = model.predict(X2)\n",
    "plt.scatter(x, y)\n",
    "plt.plot(X, y_fit);\n",
    "\n",
    "\"모델을 바꾸지 않고 입력값을 변환해서 모델을 개선한다는 개념\";"
   ]
  },
  {
   "cell_type": "code",
   "execution_count": 14,
   "id": "5295212c-6f36-45f1-9fea-087fb89633a0",
   "metadata": {},
   "outputs": [],
   "source": [
    "# 누락 데이터의 대체 (imputation)\n",
    "from numpy import nan\n",
    "X = np.array([[nan, 0, 3],\n",
    "              [3, 7, 9],\n",
    "              [3, 5, 2],\n",
    "              [4, nan, 6],\n",
    "              [8, 8, 1]])\n",
    "y = np.array([14, 16, -1, 8, -5])"
   ]
  },
  {
   "cell_type": "code",
   "execution_count": 15,
   "id": "b7cacd8c-7748-4aa4-9de2-78fae54f9073",
   "metadata": {},
   "outputs": [
    {
     "data": {
      "text/plain": [
       "array([[4.5, 0. , 3. ],\n",
       "       [3. , 7. , 9. ],\n",
       "       [3. , 5. , 2. ],\n",
       "       [4. , 5. , 6. ],\n",
       "       [8. , 8. , 1. ]])"
      ]
     },
     "execution_count": 15,
     "metadata": {},
     "output_type": "execute_result"
    }
   ],
   "source": [
    "# 평균, 중앙값, 최빈값을 사용하는 기본 대체 방식 => SciKit-Learn Imputer 클래스\n",
    "from sklearn.impute import SimpleImputer\n",
    "imp = SimpleImputer(strategy=\"mean\")\n",
    "X2 = imp.fit_transform(X)\n",
    "X2"
   ]
  },
  {
   "cell_type": "code",
   "execution_count": 16,
   "id": "ec04b316-ac30-42eb-a45d-eee76f86e2cc",
   "metadata": {},
   "outputs": [
    {
     "data": {
      "text/plain": [
       "array([13.14869292, 14.3784627 , -1.15539732, 10.96606197, -5.33782027])"
      ]
     },
     "execution_count": 16,
     "metadata": {},
     "output_type": "execute_result"
    }
   ],
   "source": [
    "model = LinearRegression().fit(X2, y)\n",
    "model.predict(X2)"
   ]
  },
  {
   "cell_type": "code",
   "execution_count": 17,
   "id": "c335cbf2-bc30-480b-9a17-8b6287c39366",
   "metadata": {},
   "outputs": [],
   "source": [
    "# 특징 파이프라인 => 여러 단계를 하나로 묶기\n",
    "\"\"\"\n",
    "1. 누락된 값을 평균으로 대체한다\n",
    "2. 특징을 이차 형태로 전환한다\n",
    "3. 선형 회귀를 적합시킨다\n",
    "\"\"\"\n",
    "\n",
    "from sklearn.pipeline import make_pipeline\n",
    "model = make_pipeline(SimpleImputer(strategy=\"mean\"), PolynomialFeatures(degree=2),\n",
    "                      LinearRegression())"
   ]
  },
  {
   "cell_type": "code",
   "execution_count": 19,
   "id": "f61aed84-ddd0-44ee-836e-58a10ddc9d2c",
   "metadata": {},
   "outputs": [
    {
     "name": "stdout",
     "output_type": "stream",
     "text": [
      "[14 16 -1  8 -5]\n",
      "[14. 16. -1.  8. -5.]\n"
     ]
    }
   ],
   "source": [
    "# 파이프라인은 표준 SciKit-Learn 객체처럼 동작\n",
    "model.fit(X, y) # X는 누락된 데이터를 포함한 오리지널 데이터세트\n",
    "print(y)\n",
    "print(model.predict(X))"
   ]
  },
  {
   "cell_type": "code",
   "execution_count": null,
   "id": "7736427c-b417-4ad9-9e2d-fce6c54b3db8",
   "metadata": {},
   "outputs": [],
   "source": []
  }
 ],
 "metadata": {
  "kernelspec": {
   "display_name": "Python 3 (ipykernel)",
   "language": "python",
   "name": "python3"
  },
  "language_info": {
   "codemirror_mode": {
    "name": "ipython",
    "version": 3
   },
   "file_extension": ".py",
   "mimetype": "text/x-python",
   "name": "python",
   "nbconvert_exporter": "python",
   "pygments_lexer": "ipython3",
   "version": "3.10.5"
  }
 },
 "nbformat": 4,
 "nbformat_minor": 5
}
