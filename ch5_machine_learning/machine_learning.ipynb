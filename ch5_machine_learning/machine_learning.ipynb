{
 "cells": [
  {
   "cell_type": "code",
   "execution_count": null,
   "id": "896f0302-a880-4b44-b015-c78f480cf539",
   "metadata": {},
   "outputs": [],
   "source": [
    "# 머신러닝 \n",
    "\"\"\"\n",
    "=> 데이터 과학의 계산 및 알고리즘 기술이 데이터 과학의 통계적 사고와 만나는 곳\n",
    "=> 데이터 모델을 구축하는 하나의 수단\n",
    "=> 데이터를 이해하기 위해 수학적 모델을 구축하는 것\n",
    "=> 학습(Learning), 조정 가능한 모수(parameter)\n",
    "\"\"\"\n",
    "\n",
    "# 머신러닝의 범주\n",
    "\"\"\"\n",
    "1. 지도 학습, supervised learning\n",
    "=> 데이터의 측정된 특징(feature)과 데이터와 관련된 레이블(label) 사이의 관계를 모델링\n",
    "=> 모델이 결정되고 나면 그것을 이용해 알려지지 않은 새 데이터에 레이블을 적용\n",
    "=> 분류(classification) - 이산적인 범주 / 회귀(regression) - 연속적인 수량\n",
    "\n",
    "2. 비지도 학습, unsupervised learning\n",
    "=> 레이블을 참조하지 않고 데이터세트의 특징을 모델링\n",
    "=> 데이터세트가 스스로 말하게 하는 것\n",
    "=> 군집화(clustering) / 차원 축소(dimensionality reduction)\n",
    "\n",
    "3. 준지도 학습, semi-supervised learning\n",
    "=> 사용할 수 잇는 레이블이 불완전할 때만 유용\n",
    "\"\"\";"
   ]
  },
  {
   "cell_type": "code",
   "execution_count": null,
   "id": "e09fa9c3-0462-416f-9cd4-8658224faf17",
   "metadata": {},
   "outputs": [],
   "source": [
    "# 분류: 이산적인 레이블 예측하기 (classification)\n",
    "# 레이블이 잇는 점의 집합을 사용해 레이블이 없는 점을 분류\n",
    "\n",
    "# 2차원 데이터 => 점이 평면상 점의 위치(x, y)로 표시되는 두개의 특징(feature)\n",
    "# 점 => 두개의 클래스 레이블 중 하나(색상[파란색/빨간색])\n",
    "# 모델 => 하나의 직선이 클래스를 구분한다\n",
    "# 모델 모수(model parameter) => 데이터에 대해 그 선의 위치와 방향을 설명하는 특정 숫자\n",
    "# 모델 모수의 값은 데이터로부터 학습(Learning) => 모델을 훈련한다\n",
    "\n",
    "# 모델 학습완료 => 레이블이 없는 새 데이터에 일반화\n",
    "# 예측(prediction)\n",
    "\n",
    "# 스팸 메일 탐지 작업\n",
    "\"\"\"\n",
    "특징1, 특징2 등 => 중요한 단어나 문구의 정규화된 출현 수(\"비아그라\", \"나이지리아 왕자\" 등)\n",
    "레이블 => \"스팸\" 또는 \"스팸 아님\"\n",
    "\"\"\";"
   ]
  },
  {
   "cell_type": "code",
   "execution_count": null,
   "id": "29d3f56c-9096-411e-93dd-119488d8f6ed",
   "metadata": {},
   "outputs": [],
   "source": [
    "# 회귀: 연속적인 레이블 예측하기 (regression)\n",
    "# 연속적인 레이블을 가진 점들의 집합으로 구성된 데이터\n",
    "\n",
    "# 2차원 데이터 => 데이터 점의 색상은 해당 점의 연속적인 레이블\n",
    "# 점을 예측하기 위한 간단한 선형 회귀\n",
    "# 선형 회귀 모델은 레이블을 세 번째 공간 차원으로 취급했을 때 평면을 데이터에 적합\n",
    "# 레이블을 색상과 3차원 축 상의 위치\n",
    "# 2차원 사영에 색상 평면을 적합\n",
    "\n",
    "# 많은 특징을 가진 데이터의 경우 간단하게 적용/평가\n",
    "\n",
    "# 만원경으로 관측한 은하계까지의 거리 계산\n",
    "\"\"\"\n",
    "특징 1, 특징 2 등 => 여러 파장 또는 색상 중 하나에서 각 은하계의 밝기\n",
    "레이블 => 은하계의 거리 또는 적색편이(redshift)\n",
    "\"\"\";"
   ]
  },
  {
   "cell_type": "code",
   "execution_count": null,
   "id": "54efb24c-7419-4f2f-bc7a-c5d9ce615b29",
   "metadata": {},
   "outputs": [],
   "source": [
    "# 균집화: 레이블이 없는 데이터에 대한 레이블 추론 (clustering)\n",
    "# 데이터가 자동으로 몇 개의 이산 그룹에 할당\n",
    "# 2차원 데이터\n",
    "# k-평균 (k-means) 알고리즘 => 최적의 중심은 할당된 중심으로부터 각 점까지의 거리를 최소화"
   ]
  },
  {
   "cell_type": "code",
   "execution_count": null,
   "id": "132774d3-e37b-4216-ba93-69783c53ddca",
   "metadata": {},
   "outputs": [],
   "source": [
    "# 차원 축소: 레이블 없는 데이터의 구조 추론 (dimensionality reduction)\n",
    "# 추상적 => 일반적으로 차원의 개수를 줄이면서 전체 데이터세트의 관련 품질을 보존하는 표현 방식을 탐색\n",
    "\n",
    "# 예제: 2차원 공간 내에 소용돌이 형태로 배치된 1차원 선\n",
    "# => 데이터가 본질적으로 1차원, 데이터가 고차원 공간에 삽입\n",
    "# 다양체 학습 알고리즘 (manifold learning algorithm): 등거리 사상 알고리즘 (Isomap algorithm)\n",
    "\n",
    "# 1,000개의 차원을 가진 데이터를 시각화 => 데이터를 2차원이나 3차원으로 줄여서 작업"
   ]
  },
  {
   "cell_type": "code",
   "execution_count": null,
   "id": "850e3bab-91b7-40e3-b536-dac9bb946ee5",
   "metadata": {},
   "outputs": [],
   "source": [
    "# KEYWORDS\n",
    "\"\"\"\n",
    "지도학습 supervised learning\n",
    "- 분류 classification\n",
    "- 회귀 regression\n",
    "비지도 학습 unsupervised learning\n",
    "- 군집화 clustering\n",
    "- 차원 축소 dimensionality reduction\n",
    "\"\"\";"
   ]
  },
  {
   "cell_type": "code",
   "execution_count": null,
   "id": "45b75654-532d-4739-9f12-25342cecb375",
   "metadata": {},
   "outputs": [],
   "source": []
  }
 ],
 "metadata": {
  "kernelspec": {
   "display_name": "Python 3 (ipykernel)",
   "language": "python",
   "name": "python3"
  },
  "language_info": {
   "codemirror_mode": {
    "name": "ipython",
    "version": 3
   },
   "file_extension": ".py",
   "mimetype": "text/x-python",
   "name": "python",
   "nbconvert_exporter": "python",
   "pygments_lexer": "ipython3",
   "version": "3.10.5"
  }
 },
 "nbformat": 4,
 "nbformat_minor": 5
}
